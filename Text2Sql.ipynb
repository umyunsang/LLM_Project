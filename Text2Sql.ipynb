{
 "cells": [
  {
   "cell_type": "code",
   "execution_count": null,
   "id": "8cb48675-e649-42b8-9a3b-8735d407b7f5",
   "metadata": {},
   "outputs": [],
   "source": [
    "# ollma + gemma2 + text2sql"
   ]
  },
  {
   "cell_type": "code",
   "execution_count": 3,
   "id": "a8ce4f99-3d1d-46c6-b8a3-11af6ef25027",
   "metadata": {},
   "outputs": [
    {
     "data": {
      "text/plain": [
       "True"
      ]
     },
     "execution_count": 3,
     "metadata": {},
     "output_type": "execute_result"
    }
   ],
   "source": [
    "from dotenv import load_dotenv\n",
    "\n",
    "load_dotenv()"
   ]
  },
  {
   "cell_type": "code",
   "execution_count": 5,
   "id": "6ece57a3-3f08-468e-8b5e-cb0d6baa6dbb",
   "metadata": {},
   "outputs": [
    {
     "data": {
      "text/html": [
       "<div>\n",
       "<style scoped>\n",
       "    .dataframe tbody tr th:only-of-type {\n",
       "        vertical-align: middle;\n",
       "    }\n",
       "\n",
       "    .dataframe tbody tr th {\n",
       "        vertical-align: top;\n",
       "    }\n",
       "\n",
       "    .dataframe thead th {\n",
       "        text-align: right;\n",
       "    }\n",
       "</style>\n",
       "<table border=\"1\" class=\"dataframe\">\n",
       "  <thead>\n",
       "    <tr style=\"text-align: right;\">\n",
       "      <th></th>\n",
       "      <th>PassengerId</th>\n",
       "      <th>Survived</th>\n",
       "      <th>Pclass</th>\n",
       "      <th>Name</th>\n",
       "      <th>Sex</th>\n",
       "      <th>Age</th>\n",
       "      <th>SibSp</th>\n",
       "      <th>Parch</th>\n",
       "      <th>Ticket</th>\n",
       "      <th>Fare</th>\n",
       "      <th>Cabin</th>\n",
       "      <th>Embarked</th>\n",
       "    </tr>\n",
       "  </thead>\n",
       "  <tbody>\n",
       "    <tr>\n",
       "      <th>0</th>\n",
       "      <td>1</td>\n",
       "      <td>0</td>\n",
       "      <td>3</td>\n",
       "      <td>Braund, Mr. Owen Harris</td>\n",
       "      <td>male</td>\n",
       "      <td>22.0</td>\n",
       "      <td>1</td>\n",
       "      <td>0</td>\n",
       "      <td>A/5 21171</td>\n",
       "      <td>7.2500</td>\n",
       "      <td>NaN</td>\n",
       "      <td>S</td>\n",
       "    </tr>\n",
       "    <tr>\n",
       "      <th>1</th>\n",
       "      <td>2</td>\n",
       "      <td>1</td>\n",
       "      <td>1</td>\n",
       "      <td>Cumings, Mrs. John Bradley (Florence Briggs Th...</td>\n",
       "      <td>female</td>\n",
       "      <td>38.0</td>\n",
       "      <td>1</td>\n",
       "      <td>0</td>\n",
       "      <td>PC 17599</td>\n",
       "      <td>71.2833</td>\n",
       "      <td>C85</td>\n",
       "      <td>C</td>\n",
       "    </tr>\n",
       "    <tr>\n",
       "      <th>2</th>\n",
       "      <td>3</td>\n",
       "      <td>1</td>\n",
       "      <td>3</td>\n",
       "      <td>Heikkinen, Miss. Laina</td>\n",
       "      <td>female</td>\n",
       "      <td>26.0</td>\n",
       "      <td>0</td>\n",
       "      <td>0</td>\n",
       "      <td>STON/O2. 3101282</td>\n",
       "      <td>7.9250</td>\n",
       "      <td>NaN</td>\n",
       "      <td>S</td>\n",
       "    </tr>\n",
       "    <tr>\n",
       "      <th>3</th>\n",
       "      <td>4</td>\n",
       "      <td>1</td>\n",
       "      <td>1</td>\n",
       "      <td>Futrelle, Mrs. Jacques Heath (Lily May Peel)</td>\n",
       "      <td>female</td>\n",
       "      <td>35.0</td>\n",
       "      <td>1</td>\n",
       "      <td>0</td>\n",
       "      <td>113803</td>\n",
       "      <td>53.1000</td>\n",
       "      <td>C123</td>\n",
       "      <td>S</td>\n",
       "    </tr>\n",
       "    <tr>\n",
       "      <th>4</th>\n",
       "      <td>5</td>\n",
       "      <td>0</td>\n",
       "      <td>3</td>\n",
       "      <td>Allen, Mr. William Henry</td>\n",
       "      <td>male</td>\n",
       "      <td>35.0</td>\n",
       "      <td>0</td>\n",
       "      <td>0</td>\n",
       "      <td>373450</td>\n",
       "      <td>8.0500</td>\n",
       "      <td>NaN</td>\n",
       "      <td>S</td>\n",
       "    </tr>\n",
       "  </tbody>\n",
       "</table>\n",
       "</div>"
      ],
      "text/plain": [
       "   PassengerId  Survived  Pclass  \\\n",
       "0            1         0       3   \n",
       "1            2         1       1   \n",
       "2            3         1       3   \n",
       "3            4         1       1   \n",
       "4            5         0       3   \n",
       "\n",
       "                                                Name     Sex   Age  SibSp  \\\n",
       "0                            Braund, Mr. Owen Harris    male  22.0      1   \n",
       "1  Cumings, Mrs. John Bradley (Florence Briggs Th...  female  38.0      1   \n",
       "2                             Heikkinen, Miss. Laina  female  26.0      0   \n",
       "3       Futrelle, Mrs. Jacques Heath (Lily May Peel)  female  35.0      1   \n",
       "4                           Allen, Mr. William Henry    male  35.0      0   \n",
       "\n",
       "   Parch            Ticket     Fare Cabin Embarked  \n",
       "0      0         A/5 21171   7.2500   NaN        S  \n",
       "1      0          PC 17599  71.2833   C85        C  \n",
       "2      0  STON/O2. 3101282   7.9250   NaN        S  \n",
       "3      0            113803  53.1000  C123        S  \n",
       "4      0            373450   8.0500   NaN        S  "
      ]
     },
     "execution_count": 5,
     "metadata": {},
     "output_type": "execute_result"
    }
   ],
   "source": [
    "import os\n",
    "from glob import glob\n",
    "from pprint import pprint\n",
    "import json\n",
    "import numpy as np\n",
    "import pandas as pd\n",
    "\n",
    "# 타이타닉 data 로드 (.csv)\n",
    "url=\"https://raw.githubusercontent.com/datasciencedojo/datasets/master/titanic.csv\"\n",
    "titanic = pd.read_csv(url)\n",
    "titanic.head()"
   ]
  },
  {
   "cell_type": "code",
   "execution_count": 6,
   "id": "587416ff-2ca7-4c73-993c-d272360cb79d",
   "metadata": {},
   "outputs": [
    {
     "data": {
      "text/plain": [
       "(891, 12)"
      ]
     },
     "execution_count": 6,
     "metadata": {},
     "output_type": "execute_result"
    }
   ],
   "source": [
    "titanic.shape"
   ]
  },
  {
   "cell_type": "code",
   "execution_count": 7,
   "id": "fa268465-04d0-42ed-89b9-a730880911f8",
   "metadata": {},
   "outputs": [
    {
     "name": "stdout",
     "output_type": "stream",
     "text": [
      "<class 'pandas.core.frame.DataFrame'>\n",
      "RangeIndex: 891 entries, 0 to 890\n",
      "Data columns (total 12 columns):\n",
      " #   Column       Non-Null Count  Dtype  \n",
      "---  ------       --------------  -----  \n",
      " 0   PassengerId  891 non-null    int64  \n",
      " 1   Survived     891 non-null    int64  \n",
      " 2   Pclass       891 non-null    int64  \n",
      " 3   Name         891 non-null    object \n",
      " 4   Sex          891 non-null    object \n",
      " 5   Age          714 non-null    float64\n",
      " 6   SibSp        891 non-null    int64  \n",
      " 7   Parch        891 non-null    int64  \n",
      " 8   Ticket       891 non-null    object \n",
      " 9   Fare         891 non-null    float64\n",
      " 10  Cabin        204 non-null    object \n",
      " 11  Embarked     889 non-null    object \n",
      "dtypes: float64(2), int64(5), object(5)\n",
      "memory usage: 83.7+ KB\n"
     ]
    }
   ],
   "source": [
    "titanic.info()"
   ]
  },
  {
   "cell_type": "code",
   "execution_count": 14,
   "id": "a6f6f6b9-6856-4bb8-bc2d-b6053e43d878",
   "metadata": {},
   "outputs": [
    {
     "name": "stdout",
     "output_type": "stream",
     "text": [
      "== titanic 데이터베이스 생성, passegers 테이블 생성 완료 ==\n",
      "승객의 수: 891\n"
     ]
    }
   ],
   "source": [
    "import sqlite3\n",
    "conn = sqlite3.connect('titanic.db')\n",
    "titanic.to_sql('Passengers', conn, if_exists='replace', index=False, dtype=\n",
    "              {'PassengerId':'INTEGER PRIMARY KEY',\n",
    "               'Survived':'INTEGER',\n",
    "               'Pclass':'INTEGER',\n",
    "               'Name':'TEXT NOT NULL',\n",
    "               'Sex':'TEXT NOT NULL',\n",
    "               'Age':'FLOAT',\n",
    "               'SibSp':'INTEGER',\n",
    "               'Parch':'INTEGER',\n",
    "               'Ticket':'TEXT',\n",
    "               'Fare':'FLOAT',\n",
    "               'Cabin':'TEXT',\n",
    "               'Embarked':'TEXT'}\n",
    ")\n",
    "cursor = conn.cursor()\n",
    "cursor.execute(\"SELECT COUNT(*) FROM Passengers\")\n",
    "passenger_count = cursor.fetchone()[0]\n",
    "\n",
    "print(\"== titanic 데이터베이스 생성, passegers 테이블 생성 완료 ==\")\n",
    "print(f\"승객의 수: {passenger_count}\")"
   ]
  },
  {
   "cell_type": "code",
   "execution_count": 16,
   "id": "5f617353-b752-4d39-a1c9-62eaa1abb853",
   "metadata": {},
   "outputs": [
    {
     "name": "stdout",
     "output_type": "stream",
     "text": [
      "승객의 수: 342\n",
      "남자승객의 수: 577\n"
     ]
    }
   ],
   "source": [
    "# 간단한 통계 확인\n",
    "cursor.execute(\"SELECT COUNT(*) FROM Passengers WHERE Survived=1\")\n",
    "surived_count = cursor.fetchone()[0]\n",
    "print(f\"승객의 수: {surived_count}\")\n",
    "\n",
    "cursor.execute(\"SELECT COUNT(*) FROM Passengers WHERE Sex='male'\")\n",
    "males = cursor.fetchone()[0]\n",
    "print(f\"남자승객의 수: {males}\")"
   ]
  },
  {
   "cell_type": "code",
   "execution_count": 17,
   "id": "40568175-d1f4-40c7-9f4a-b2590339e65e",
   "metadata": {},
   "outputs": [
    {
     "name": "stdout",
     "output_type": "stream",
     "text": [
      "사용 가능한 테이블 목록\n",
      "['Passengers']\n"
     ]
    }
   ],
   "source": [
    "# DB 스키마 확인\n",
    "from langchain_community.utilities import SQLDatabase\n",
    "\n",
    "db = SQLDatabase.from_uri(\"sqlite:///titanic.db\")\n",
    "\n",
    "# DB에 생성된 테이블 목록 조회\n",
    "tables = db.get_usable_table_names()\n",
    "print(\"사용 가능한 테이블 목록\")\n",
    "print(tables)"
   ]
  },
  {
   "cell_type": "code",
   "execution_count": 18,
   "id": "3aff3110-1fcf-40b1-a5fb-ae8258d22378",
   "metadata": {},
   "outputs": [
    {
     "name": "stdout",
     "output_type": "stream",
     "text": [
      "테이블의 스키마 정보 (메타 정보)\n",
      "\n",
      "CREATE TABLE \"Passengers\" (\n",
      "\t\"PassengerId\" INTEGER, \n",
      "\t\"Survived\" INTEGER, \n",
      "\t\"Pclass\" INTEGER, \n",
      "\t\"Name\" TEXT NOT NULL, \n",
      "\t\"Sex\" TEXT NOT NULL, \n",
      "\t\"Age\" FLOAT, \n",
      "\t\"SibSp\" INTEGER, \n",
      "\t\"Parch\" INTEGER, \n",
      "\t\"Ticket\" TEXT, \n",
      "\t\"Fare\" FLOAT, \n",
      "\t\"Cabin\" TEXT, \n",
      "\t\"Embarked\" TEXT, \n",
      "\tPRIMARY KEY (\"PassengerId\")\n",
      ")\n",
      "\n",
      "/*\n",
      "3 rows from Passengers table:\n",
      "PassengerId\tSurvived\tPclass\tName\tSex\tAge\tSibSp\tParch\tTicket\tFare\tCabin\tEmbarked\n",
      "1\t0\t3\tBraund, Mr. Owen Harris\tmale\t22.0\t1\t0\tA/5 21171\t7.25\tNone\tS\n",
      "2\t1\t1\tCumings, Mrs. John Bradley (Florence Briggs Thayer)\tfemale\t38.0\t1\t0\tPC 17599\t71.2833\tC85\tC\n",
      "3\t1\t3\tHeikkinen, Miss. Laina\tfemale\t26.0\t0\t0\tSTON/O2. 3101282\t7.925\tNone\tS\n",
      "*/\n"
     ]
    }
   ],
   "source": [
    "print(\"테이블의 스키마 정보 (메타 정보)\")\n",
    "print(db.get_table_info())"
   ]
  },
  {
   "cell_type": "code",
   "execution_count": 24,
   "id": "f2916c25-030b-41d4-9eac-74bafd0ad5c6",
   "metadata": {},
   "outputs": [
    {
     "name": "stdout",
     "output_type": "stream",
     "text": [
      "Question: 생존자는 모두 몇 명인가요?\n",
      "SQLQuery: SELECT COUNT(\"Survived\") AS SurvivedCount FROM \"Passengers\" WHERE \"Survived\" = 1;\n",
      "Question: 생존자는 모두 몇 명인가요?\n",
      "SQLQuery: SELECT COUNT(*) FROM \"Passengers\" WHERE \"Survived\" = 1\n"
     ]
    }
   ],
   "source": [
    "# Query Text -> SQl 쿼리로 변환되어 실행\n",
    "from langchain.chains import create_sql_query_chain\n",
    "from langchain_ollama import ChatOllama\n",
    "\n",
    "qwen_llm = ChatOllama(model=\"qwen2.5\")\n",
    "gemma_llm = ChatOllama(model=\"gemma2\")\n",
    "\n",
    "qwen_sql = create_sql_query_chain(llm=qwen_llm, db = db)\n",
    "gemma_sql = create_sql_query_chain(llm=gemma_llm, db = db)\n",
    "\n",
    "qwen_query = qwen_sql.invoke({\"question\":\"생존자는 모두 몇 명인가요?\"})\n",
    "gemma_query = gemma_sql.invoke({\"question\":\"생존자는 모두 몇 명인가요?\"})\n",
    "\n",
    "print(qwen_query)\n",
    "print(gemma_query)"
   ]
  },
  {
   "cell_type": "code",
   "execution_count": 26,
   "id": "a5afe86b-3b43-436a-b6ae-bff9d631c09e",
   "metadata": {},
   "outputs": [
    {
     "name": "stdout",
     "output_type": "stream",
     "text": [
      "SELECT COUNT(\"Survived\") AS SurvivedCount FROM \"Passengers\" WHERE \"Survived\" = 1;\n",
      "SELECT COUNT(*) FROM \"Passengers\" WHERE \"Survived\" = 1\n"
     ]
    }
   ],
   "source": [
    "import re\n",
    "def extract_sql(text):\n",
    "    pattern = r'SQLQuery: (.*)'\n",
    "    match = re.search(pattern, text)\n",
    "    if match :\n",
    "        query = match.group(1)\n",
    "        return query\n",
    "\n",
    "    return None\n",
    "\n",
    "print(extract_sql(qwen_query))\n",
    "print(extract_sql(gemma_query))"
   ]
  },
  {
   "cell_type": "code",
   "execution_count": 28,
   "id": "4a0e15f5-1f4d-4e07-935a-a2416c44e76c",
   "metadata": {},
   "outputs": [
    {
     "data": {
      "text/plain": [
       "'[(342,)]'"
      ]
     },
     "execution_count": 28,
     "metadata": {},
     "output_type": "execute_result"
    }
   ],
   "source": [
    "db.run(extract_sql(qwen_query))\n"
   ]
  },
  {
   "cell_type": "code",
   "execution_count": 29,
   "id": "09623335-a029-4072-b706-592b5472d5da",
   "metadata": {},
   "outputs": [
    {
     "data": {
      "text/plain": [
       "'[(342,)]'"
      ]
     },
     "execution_count": 29,
     "metadata": {},
     "output_type": "execute_result"
    }
   ],
   "source": [
    "db.run(extract_sql(gemma_query))"
   ]
  },
  {
   "cell_type": "code",
   "execution_count": 30,
   "id": "8ae34794-d094-4612-a776-cfa9950d2024",
   "metadata": {},
   "outputs": [
    {
     "data": {
      "text/plain": [
       "'[(342,)]'"
      ]
     },
     "execution_count": 30,
     "metadata": {},
     "output_type": "execute_result"
    }
   ],
   "source": [
    "# 쿼리를 직접 실행하는 tool\n",
    "from langchain_community.tools import QuerySQLDatabaseTool\n",
    "query_executor = QuerySQLDatabaseTool(db=db)\n",
    "query_executor.invoke(extract_sql(qwen_query))"
   ]
  },
  {
   "cell_type": "code",
   "execution_count": 35,
   "id": "99818ddb-75e7-4ce8-b7bd-760d587543cb",
   "metadata": {},
   "outputs": [
    {
     "data": {
      "text/plain": [
       "'총 342명의 승객이 생존했습니다.  \\n\\n\\n'"
      ]
     },
     "execution_count": 35,
     "metadata": {},
     "output_type": "execute_result"
    }
   ],
   "source": [
    "from operator import itemgetter\n",
    "from langchain_core.output_parsers import StrOutputParser\n",
    "from langchain_core.prompts import PromptTemplate\n",
    "from langchain_core.runnables import RunnablePassthrough, RunnableLambda\n",
    "\n",
    "answer_prompt = PromptTemplate.from_template(\n",
    "    \"\"\" 다음 사용자의 질문과, 질문에 해당하는 SQL Query와 SQL 실행 결과 기반으로 사용자에게 답하시오.\n",
    "\n",
    "    Question : {question}\n",
    "    SQL Query : {query}\n",
    "    SQL Result : {result}\n",
    "    Answer : \"\"\"\n",
    ")\n",
    "chain = (RunnablePassthrough.assign(query=gemma_sql).assign(\n",
    "    result=itemgetter(\"query\") | RunnableLambda(extract_sql)| query_executor)\n",
    "         | answer_prompt \n",
    "         | gemma_llm \n",
    "         | StrOutputParser()\n",
    "        )\n",
    "\n",
    "chain.invoke({\"question\": \"생존자는 모두 몇명인가요?\"})"
   ]
  },
  {
   "cell_type": "code",
   "execution_count": null,
   "id": "470f12a7-658d-4679-bc3a-3ec22c72a02d",
   "metadata": {},
   "outputs": [],
   "source": []
  }
 ],
 "metadata": {
  "kernelspec": {
   "display_name": "Python 3 (ipykernel)",
   "language": "python",
   "name": "python3"
  },
  "language_info": {
   "codemirror_mode": {
    "name": "ipython",
    "version": 3
   },
   "file_extension": ".py",
   "mimetype": "text/x-python",
   "name": "python",
   "nbconvert_exporter": "python",
   "pygments_lexer": "ipython3",
   "version": "3.12.8"
  }
 },
 "nbformat": 4,
 "nbformat_minor": 5
}
