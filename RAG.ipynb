{
 "cells": [
  {
   "cell_type": "code",
   "execution_count": null,
   "id": "6ed51b67-eaf2-4df4-8fab-0f51d12ce1e9",
   "metadata": {},
   "outputs": [],
   "source": [
    "# API_KEY 환경변수 설정\n",
    "import os\n",
    "OPENAI_API_KEY=\"YOUR_API_KEY\"\n",
    "\n",
    "os.environ[\"OPENAI_API_KEY\"] = OPENAI_API_KEY"
   ]
  },
  {
   "cell_type": "code",
   "execution_count": null,
   "id": "c19da7b2-1b8a-43a3-bf1d-05177c25aa3b",
   "metadata": {},
   "outputs": [],
   "source": [
    "# API KEY를 환경변수로 관리하기 위한 설정 파일\n",
    "# 설치: pip install python-dotenv\n",
    "from dotenv import load_dotenv\n",
    "\n",
    "# API KEY 정보로드\n",
    "load_dotenv()\n"
   ]
  },
  {
   "cell_type": "code",
   "execution_count": 2,
   "id": "021208ba-b4e6-4e76-be4b-0670bce119c3",
   "metadata": {},
   "outputs": [
    {
     "name": "stderr",
     "output_type": "stream",
     "text": [
      "USER_AGENT environment variable not set, consider setting it to identify your requests.\n"
     ]
    },
    {
     "name": "stdout",
     "output_type": "stream",
     "text": [
      "1\n",
      "13173\n",
      " 위해 좀 더 빠르게 강력한 수단을 이용해야 합니다. 특히 정책 문서에 명시된 원칙을 지키지 않는 것은 대부분의 경우 다른 사용자에게 받아들여지지 않습니다 (다른 분들에게 예외 상황임을 설득할 수 있다면 가능하기는 하지만요). 이는 당신을 포함해서 편집자 개개인이 정책과 지침을 직접 집행 및 적용한다는 것을 의미합니다.\n",
      "특정 사용자가 명백히 정책에 반하는 행동을 하거나 정책과 상충되는 방식으로 지침을 어기는 경우, 특히 의도적이고 지속적으로 그런 행위를 하는 경우 해당 사용자는 관리자의 제재 조치로 일시적, 혹은 영구적으로 편집이 차단될 수 있습니다. 영어판을 비롯한 타 언어판에서는 일반적인 분쟁 해결 절차로 끝낼 수 없는 사안은 중재위원회가 개입하기도 합니다.\n",
      "\n",
      "문서 내용\n",
      "정책과 지침의 문서 내용은 처음 읽는 사용자라도 원칙과 규범을 잘 이해할 수 있도록 다음 원칙을 지켜야 합니다.\n",
      "\n",
      "명확하게 작성하세요. 소수만 알아듣거나 준법률적인 단어, 혹은 지나치게 단순한 표현은 피해야 합니다. 명확하고, 직접적이고, 모호하지 않고, 구체적으로 작성하세요. 지나치게 상투적인 표현이나 일반론은 피하세요. 지침, 도움말 문서 및 기타 정보문 문서에서도 \"해야 합니다\" 혹은 \"하지 말아야 합니다\" 같이 직접적인 표현을 굳이 꺼릴 필요는 없습니다.\n",
      "가능한 간결하게, 너무 단순하지는 않게. 정책이 중언부언하면 오해를 부릅니다. 불필요한 말은 생략하세요. 직접적이고 간결한 설명이 마구잡이식 예시 나열보다 더 이해하기 쉽습니다. 각주나 관련 문서 링크를 이용하여 더 상세히 설명할 수도 있습니다.\n",
      "규칙을 만든 의도를 강조하세요. 사용자들이 상식대로 행동하리라 기대하세요. 정책의 의도가 명료하다면, 추가 설명은 필요 없죠. 즉 규칙을 '어떻게' 지키는지와 더불어 '왜' 지켜야 하는지 확실하게 밝혀야 합니다.\n",
      "범위는 분명히, 중복은 피하기. 되도록 앞부분에서 정책 및 지침의 목적과 범위를 분명하게 밝혀야 합니다. 독자 대부분은 도입부 초반만 읽고 나가버리니까요. 각 정책 문서의 내용은 \n"
     ]
    }
   ],
   "source": [
    "# RAG : Load Data\n",
    "# pip install langchain_community\n",
    "\n",
    "from langchain_community.document_loaders import WebBaseLoader\n",
    "url = 'https://ko.wikipedia.org/wiki/%EC%9C%84%ED%82%A4%EB%B0%B1%EA%B3%BC:%EC%A0%95%EC%B1%85%EA%B3%BC_%EC%A7%80%EC%B9%A8'\n",
    "loader = WebBaseLoader(url)\n",
    "docs = loader.load()\n",
    "print(len(docs))\n",
    "print(len(docs[0].page_content))\n",
    "print(docs[0].page_content[5000:6000])"
   ]
  },
  {
   "cell_type": "code",
   "execution_count": 3,
   "id": "f6df1d96-3b6b-4a6b-a78c-bb43caa1c50d",
   "metadata": {},
   "outputs": [
    {
     "name": "stdout",
     "output_type": "stream",
     "text": [
      "18\n",
      "제안과 채택\n",
      " 백:아님 § 관료주의  문서를 참고하십시오. 단축백:제안\n",
      "제안 문서란 정책과 지침으로 채택하자고 의견을 묻는 문서이나 아직 위키백과 내에 받아들여지는 원칙으로 확립되지는 않은 문서입니다. {{제안}} 틀을 붙여 공동체 내에서 정책이나 지침으로 채택할 지 의견을 물을 수 있습니다. 제안 문서는 정책과 지침이 아니므로 아무리 실제 있는 정책이나 지침을 요약하거나 인용해서 다른 문서에 쓴다고 해도 함부로 정책이나 지침 틀을 붙여서는 안 됩니다.\n",
      "'제안'은 완전 새로운 원칙이라기보다, 기존의 불문율이나 토론 총의의 문서를 통한 구체화에 가깝습니다. 많은 사람들이 쉽게 제안을 받아들이도록 하기 위해서는, 기초적인 원칙을 우선 정하고 기본 틀을 짜야 합니다. 정책과 지침의 기본 원칙은 \"왜 지켜야 하는가?\", \"어떻게 지켜야 하는가?\" 두 가지입니다. 특정 원칙을 정책이나 지침으로 확립하기 위해서는 우선 저 두 가지 물음에 성실하게 답하는 제안 문서를 작성해야 합니다.\n",
      "좋은 아이디어를 싣기 위해 사랑방이나 관련 위키프로젝트에 도움을 구해 피드백을 요청할 수 있습니다. 이 과정에서 공동체가 어느 정도 받아들일 수 있는 원칙이 구체화됩니다. 많은 이와의 토론을 통해 공감대가 형성되고 제안을 개선할 수 있습니다.\n",
      "정책이나 지침은 위키백과 내의 모든 편집자들에게 적용되는 원칙이므로 높은 수준의 총의가 요구됩니다. 제안 문서가 잘 짜여졌고 충분히 논의되었다면, 더 많은 공동체의 편집자와 논의를 하기 위해 승격 제안을 올려야 합니다. 제안 문서 맨 위에 {{제안}}을 붙여 제안 안건임을 알려주고, 토론 문서에 {{의견 요청}}을 붙인 뒤 채택 제안에 관한 토론 문단을 새로 만들면 됩니다. 많은 편집자들에게 알리기 위해 관련 내용을 {{위키백과 소식}}에 올리고 사랑방에 이를 공지해야 하며, 합의가 있을 경우 미디어위키의 sitenotice(위키백과 최상단에 노출되는 구역)에 공지할 수도 있습니다.\n",
      "{'source': 'https://ko.wikipedia.org/wiki/%EC%9C%84%ED%82%A4%EB%B0%B1%EA%B3%BC:%EC%A0%95%EC%B1%85%EA%B3%BC_%EC%A7%80%EC%B9%A8', 'title': '위키백과:정책과 지침 - 위키백과, 우리 모두의 백과사전', 'language': 'ko'}\n"
     ]
    }
   ],
   "source": [
    "# RAG : 텍스트 분할(Text Split)\n",
    "from langchain.text_splitter import RecursiveCharacterTextSplitter\n",
    "\n",
    "text_splitter = RecursiveCharacterTextSplitter(chunk_size=1000,\n",
    "\t\t\t\t\t\t\t\t\t\t\t   chunk_overlap=200)\n",
    "splits = text_splitter.split_documents(docs)\n",
    "\n",
    "print(len(splits))\n",
    "print(splits[10].page_content)\n",
    "print(splits[10].metadata)"
   ]
  },
  {
   "cell_type": "code",
   "execution_count": 9,
   "id": "b4b35983-12da-43c6-b24f-60c7138fd0e9",
   "metadata": {
    "scrolled": true
   },
   "outputs": [
    {
     "name": "stdout",
     "output_type": "stream",
     "text": [
      "4\n",
      "격하\n",
      "특정 정책이나 지침이 편집 관행이나 공동체 규범이 바뀌며 쓸모없어질 수 있고, 다른 문서가 개선되어 내용이 중복될 수 있으며, 불필요한 내용이 증식할 수도 있습니다. 이 경우 편집자들은 정책을 지침으로 격하하거나, 정책 또는 지침을 보충 설명, 정보문, 수필 또는 중단 문서로 격하할 것을 제안할 수 있습니다. \n",
      "격하 과정은 채택 과정과 비슷합니다. 일반적으로 토론 문서 내 논의가 시작되고 프로젝트 문서 상단에 {{새로운 토론|문단=진행 중인 토론 문단}} 틀을 붙여 공동체의 참여를 요청합니다. 논의가 충분히 이루어진 후, 제3의 편집자가 토론을 종료하고 평가한 후 상태 변경 총의가 형성되었는지 판단해야 합니다. 폐지된 정책이나 지침은 최상단에 {{중단}} 틀을 붙여 더 이상 사용하지 않는 정책/지침임을 알립니다.\n",
      "소수의 공동체 인원만 지지하는 수필, 정보문 및 기타 비공식 문서는 일반적으로 주된 작성자의 사용자 이름공간으로 이동합니다. 이러한 논의는 일반적으로 해당 문서의 토론란에서 이루어지며, 간혹 위키백과:의견 요청을 통해 처리되기도 합니다.\n",
      "\n",
      "같이 보기\n",
      "위키백과:위키백과의 정책과 지침 목록\n",
      "위키백과:의견 요청\n",
      "수필\n",
      "\n",
      "위키백과:제품, 절차, 정책\n",
      "위키백과:위키백과 공동체의 기대와 규범\n",
      "기타 링크\n"
     ]
    }
   ],
   "source": [
    "# RAG : 인덱싱(Indexing)\n",
    "# pip install langchain_openai\n",
    "# pip install chromadb\n",
    "\n",
    "from langchain_community.vectorstores import Chroma\n",
    "from langchain_openai import OpenAIEmbeddings\n",
    "\n",
    "vectorstore = Chroma.from_documents(documents=splits,\n",
    "\t\t\t\t\t\t\t\t\tembedding=OpenAIEmbeddings())\n",
    "\n",
    "# Vector Database에 저장된 내용을 유사도 검색으로 확인\n",
    "docs = vectorstore.similarity_search(\"격하 과정에 대해서 설명해주세요.\")\n",
    "print(len(docs))\n",
    "print(docs[0].page_content)"
   ]
  },
  {
   "cell_type": "code",
   "execution_count": 14,
   "id": "678174ec-3a7d-4fec-8094-c0fb34b81bb9",
   "metadata": {},
   "outputs": [
    {
     "data": {
      "text/plain": [
       "'격하 과정은 특정 정책이나 지침이 더 이상 유효하지 않거나 필요하지 않다고 판단될 때 이루어지는 절차입니다. 이 과정은 채택 과정과 유사하게 진행됩니다. 일반적으로, 토론 문서 내에서 논의가 시작되며, 프로젝트 문서 상단에 {{새로운 토론|문단=진행 중인 토론 문단}} 틀을 붙여 공동체의 참여를 요청합니다. 충분한 논의가 이루어진 후, 제3의 편집자가 토론을 종료하고 평가하여 상태 변경에 대한 총의가 형성되었는지 판단합니다. \\n\\n격하된 정책이나 지침은 최상단에 {{중단}} 틀을 붙여 더 이상 사용되지 않음을 알립니다. 소수의 공동체 인원만 지지하는 수필이나 정보문 등은 일반적으로 주된 작성자의 사용자 이름공간으로 이동됩니다. 이러한 논의는 해당 문서의 토론란에서 이루어지며, 때로는 위키백과:의견 요청을 통해 처리되기도 합니다.'"
      ]
     },
     "execution_count": 14,
     "metadata": {},
     "output_type": "execute_result"
    }
   ],
   "source": [
    "# RAG : 검색 및 생성 (Retrieval & Generation)\n",
    "from langchain_core.prompts import ChatPromptTemplate\n",
    "from langchain_core.runnables import RunnablePassthrough\n",
    "from langchain_core.output_parsers import StrOutputParser\n",
    "from langchain_openai import ChatOpenAI\n",
    "\n",
    "template = '''Answer the question based only on the following context: \n",
    "{context} \n",
    "\n",
    "Question: {question}'''\n",
    "prompt = ChatPromptTemplate.from_template(template)    # Template기반의 Prompt객체 (사용자의 질문 포함)\n",
    "model = ChatOpenAI(model='gpt-4o-mini', temperature=0) # 검색결과 기반으로 응답 텍스트 생성할 LLM모델 생성\n",
    "retriever = vectorstore.as_retriever()                 # VectorDB의 검색 엔진 객체 생성\n",
    "\n",
    "def format_docs(docs):\n",
    "    return '\\n\\n'.join(doc.page_content for doc in docs)\n",
    "    \n",
    "rag_chain = (\n",
    "    {'context': retriever | format_docs, 'question': RunnablePassthrough()}\n",
    "    | prompt \n",
    "    | model \n",
    "    | StrOutputParser()\n",
    ")\n",
    "rag_chain.invoke(\"격하 과정에 대해서 설명해주세요.\")"
   ]
  },
  {
   "cell_type": "code",
   "execution_count": 35,
   "id": "d8098e13-dfcf-44bb-91ce-50948d75782b",
   "metadata": {},
   "outputs": [],
   "source": [
    "from langchain.text_splitter import RecursiveCharacterTextSplitter\n",
    "from langchain_core.prompts import ChatPromptTemplate\n",
    "from langchain_community.vectorstores import Chroma\n",
    "from langchain_openai import OpenAIEmbeddings, ChatOpenAI\n",
    "from langchain_community.document_loaders import WikipediaLoader\n",
    "from langchain.chains import RetrievalQA\n",
    "\n",
    "# 데이터 로드 & 분할 결과 반환 모듈화\n",
    "def load_docs(query):\n",
    "    \"\"\"\n",
    "    주어진 질의를 기반으로 위키백과 데이터를 로드하고 텍스트를 분할하여 반환합니다.\n",
    "    \"\"\"\n",
    "    loader = WikipediaLoader(query=query, load_max_docs=1)  # 최대 1개의 문서 로드\n",
    "    documents = loader.load()\n",
    "\n",
    "    # 텍스트 분할 설정: 청크 크기 1000, 중복 200\n",
    "    text_splitter = RecursiveCharacterTextSplitter(chunk_size=1000, chunk_overlap=200)\n",
    "    splits = text_splitter.split_documents(documents)\n",
    "\n",
    "    return splits\n",
    "\n",
    "# 로드하고 분할된 데이터 임베딩 & Vector DB에 저장 모듈화\n",
    "def create_vectorstore(splits):\n",
    "    \"\"\"\n",
    "    분할된 텍스트를 임베딩하고 Vector DB에 저장합니다.\n",
    "    \"\"\"\n",
    "    embeddings = OpenAIEmbeddings()  # 임베딩 생성\n",
    "    vectorstore = Chroma.from_documents(documents=splits, embedding=embeddings)  # 벡터 스토어 생성\n",
    "    return vectorstore\n",
    "\n",
    "# RAG Chain 생성\n",
    "def create_rag_chain(vectorstore):\n",
    "    \"\"\"\n",
    "    주어진 벡터스토어를 기반으로 RAG (Retrieval-Augmented Generation) 체인을 생성합니다.\n",
    "    \"\"\"\n",
    "    llm = ChatOpenAI(model='gpt-4o-mini', temperature=0)  # LLM 설정\n",
    "\n",
    "    # 프롬프트 템플릿 정의\n",
    "    prompt_template = \"\"\"\n",
    "    아래의 문맥을 사용하여 질문에 답하십시오.\n",
    "    만약 답을 모른다면, 모른다고 말하고 답을 지어내지 마십시오.\n",
    "    최대한 세 문장으로 답하고 가능한 간결하게 유지하십시오.\n",
    "\n",
    "    {context}\n",
    "    질문: {question}\n",
    "    유용한 답변:\n",
    "    \"\"\"\n",
    "    PROMPT = ChatPromptTemplate.from_template(template=prompt_template)  # 템플릿 생성\n",
    "\n",
    "    # Retrieval QA 체인 생성\n",
    "    qna_chain = RetrievalQA.from_chain_type(\n",
    "        llm=llm,\n",
    "        chain_type=\"stuff\",\n",
    "        retriever=vectorstore.as_retriever(),  # 벡터스토어에서 검색 엔진 생성\n",
    "        chain_type_kwargs={\"prompt\": PROMPT},\n",
    "        return_source_documents=True  # 원본 문서 반환 옵션 활성화\n",
    "    )\n",
    "\n",
    "    return qna_chain\n"
   ]
  },
  {
   "cell_type": "code",
   "execution_count": 39,
   "id": "37d95ccb-0699-4f14-a2e2-b49bb274626d",
   "metadata": {},
   "outputs": [
    {
     "name": "stdout",
     "output_type": "stream",
     "text": [
      "[Document(metadata={'title': 'An Jung-geun', 'summary': 'An Jung-geun (Korean: 안중근; 2 September 1879 – 26 March 1910) was a Korean independence activist. He is remembered as a martyr in both South and North Korea for his 1909 assassination of the Japanese politician Itō Hirobumi, who had previously served as the first prime minister of Japan and Japanese Resident-General of Korea. An was imprisoned and later executed by Japanese authorities on 26 March 1910.\\nHe was posthumously awarded the Order of Merit for National Foundation in 1962 by the South Korean government, the most prestigious civil decoration in the Republic of Korea, for his efforts for Korean independence.', 'source': 'https://en.wikipedia.org/wiki/An_Jung-geun'}, page_content='An Jung-geun (Korean: 안중근; 2 September 1879 – 26 March 1910) was a Korean independence activist. He is remembered as a martyr in both South and North Korea for his 1909 assassination of the Japanese politician Itō Hirobumi, who had previously served as the first prime minister of Japan and Japanese Resident-General of Korea. An was imprisoned and later executed by Japanese authorities on 26 March 1910.\\nHe was posthumously awarded the Order of Merit for National Foundation in 1962 by the South Korean government, the most prestigious civil decoration in the Republic of Korea, for his efforts for Korean independence.\\n\\n\\n== Biography ==\\n\\n\\n=== Early accounts ==='), Document(metadata={'title': 'An Jung-geun', 'summary': 'An Jung-geun (Korean: 안중근; 2 September 1879 – 26 March 1910) was a Korean independence activist. He is remembered as a martyr in both South and North Korea for his 1909 assassination of the Japanese politician Itō Hirobumi, who had previously served as the first prime minister of Japan and Japanese Resident-General of Korea. An was imprisoned and later executed by Japanese authorities on 26 March 1910.\\nHe was posthumously awarded the Order of Merit for National Foundation in 1962 by the South Korean government, the most prestigious civil decoration in the Republic of Korea, for his efforts for Korean independence.', 'source': 'https://en.wikipedia.org/wiki/An_Jung-geun'}, page_content=\"== Biography ==\\n\\n\\n=== Early accounts ===\\n\\nAn was born on 2 September 1879, in Haeju, Hwanghae Province, Joseon. He was the first son of An Taehun and Jo Maria, of the Sunheung An clan (순흥 안씨; 順興 安氏). Ahn is the 26th great-grandson of Ahn Hyang. His childhood name was An Eungchil (안응칠; 安應七; [ɐn ɯŋtɕʰiɭ]). The name originated from seven dots on the chest and stomach, meaning that it was born in accordance with the energy of the Big Dipper. As a boy, he learned Chinese literature and Western sciences, but was more interested in martial arts and marksmanship. Kim Ku, a future leader of the Korean independence movement who had taken refuge in An Tae-hun's house at the time, wrote that young An Jung-geun was an excellent marksman, liked to read books, and had strong charisma.\"), Document(metadata={'title': 'An Jung-geun', 'summary': 'An Jung-geun (Korean: 안중근; 2 September 1879 – 26 March 1910) was a Korean independence activist. He is remembered as a martyr in both South and North Korea for his 1909 assassination of the Japanese politician Itō Hirobumi, who had previously served as the first prime minister of Japan and Japanese Resident-General of Korea. An was imprisoned and later executed by Japanese authorities on 26 March 1910.\\nHe was posthumously awarded the Order of Merit for National Foundation in 1962 by the South Korean government, the most prestigious civil decoration in the Republic of Korea, for his efforts for Korean independence.', 'source': 'https://en.wikipedia.org/wiki/An_Jung-geun'}, page_content='At the age of 16, An entered the Catholic Church with his father, where he received his baptismal name \"Thomas\" (토마스), and learned French. While fleeing from the Japanese, An took refuge with a French priest of the Catholic Church in Korea named Wilhelm (Korean name, Hong Seok-gu; 홍석구; 洪錫九) who baptized him and hid him in his church for several months. The priest encouraged An to read the Bible and had a series of discussions with him. He maintained his belief in Catholicism until his death, going to the point of even asking his son to become a priest in his last letter to his wife.'), Document(metadata={'title': 'An Jung-geun', 'summary': 'An Jung-geun (Korean: 안중근; 2 September 1879 – 26 March 1910) was a Korean independence activist. He is remembered as a martyr in both South and North Korea for his 1909 assassination of the Japanese politician Itō Hirobumi, who had previously served as the first prime minister of Japan and Japanese Resident-General of Korea. An was imprisoned and later executed by Japanese authorities on 26 March 1910.\\nHe was posthumously awarded the Order of Merit for National Foundation in 1962 by the South Korean government, the most prestigious civil decoration in the Republic of Korea, for his efforts for Korean independence.', 'source': 'https://en.wikipedia.org/wiki/An_Jung-geun'}, page_content='At the age of 25, he started a coal business, but devoted himself to the education of Korean people after the Eulsa Treaty by establishing private schools in northwestern regions of Korea. He also participated in the National Debt Repayment Movement. In 1907 he exiled himself to Vladivostok to join in with the armed resistance against the Japanese colonial rulers, where he learned fluent Russian. He was appointed a lieutenant general of an armed Korean resistance group and led several attacks against Japanese forces before his eventual defeat.'), Document(metadata={'title': 'An Jung-geun', 'summary': 'An Jung-geun (Korean: 안중근; 2 September 1879 – 26 March 1910) was a Korean independence activist. He is remembered as a martyr in both South and North Korea for his 1909 assassination of the Japanese politician Itō Hirobumi, who had previously served as the first prime minister of Japan and Japanese Resident-General of Korea. An was imprisoned and later executed by Japanese authorities on 26 March 1910.\\nHe was posthumously awarded the Order of Merit for National Foundation in 1962 by the South Korean government, the most prestigious civil decoration in the Republic of Korea, for his efforts for Korean independence.', 'source': 'https://en.wikipedia.org/wiki/An_Jung-geun'}, page_content='=== Assassination of Itō Hirobumi ==='), Document(metadata={'title': 'An Jung-geun', 'summary': 'An Jung-geun (Korean: 안중근; 2 September 1879 – 26 March 1910) was a Korean independence activist. He is remembered as a martyr in both South and North Korea for his 1909 assassination of the Japanese politician Itō Hirobumi, who had previously served as the first prime minister of Japan and Japanese Resident-General of Korea. An was imprisoned and later executed by Japanese authorities on 26 March 1910.\\nHe was posthumously awarded the Order of Merit for National Foundation in 1962 by the South Korean government, the most prestigious civil decoration in the Republic of Korea, for his efforts for Korean independence.', 'source': 'https://en.wikipedia.org/wiki/An_Jung-geun'}, page_content='In October 1909, An passed the Imperial Japanese guards at the Harbin Railway Station. Itō Hirobumi had come back from negotiating with the Russian representative on the train. An shot him three times with an FN M1900 pistol on the railway platform. He also shot Kawagami Toshihiko (川上俊彦), the Japanese Consul General, Morita Jirō (森泰二郞), a Secretary of the Imperial Household Agency, and Tanaka Seitarō (田中淸太郞), an executive of the South Manchuria Railway, who were seriously injured. After the shooting, An yelled out for Korean independence in Russian, stating \"Корея! Ура!\" (Korea! Hurrah!), and waving the Korean flag.'), Document(metadata={'title': 'An Jung-geun', 'summary': 'An Jung-geun (Korean: 안중근; 2 September 1879 – 26 March 1910) was a Korean independence activist. He is remembered as a martyr in both South and North Korea for his 1909 assassination of the Japanese politician Itō Hirobumi, who had previously served as the first prime minister of Japan and Japanese Resident-General of Korea. An was imprisoned and later executed by Japanese authorities on 26 March 1910.\\nHe was posthumously awarded the Order of Merit for National Foundation in 1962 by the South Korean government, the most prestigious civil decoration in the Republic of Korea, for his efforts for Korean independence.', 'source': 'https://en.wikipedia.org/wiki/An_Jung-geun'}, page_content='Afterwards, An was arrested by Russian guards who held him for two days before turning him over to Japanese colonial authorities. When he heard the news that Itō had died, he made the sign of the cross in gratitude. An was quoted as saying, \"I have ventured to commit a serious crime, offering my life for my country. This is the behavior of a noble-minded patriot.\" Wilhelm gave last rites to An, ignoring the bishop of Korea\\'s order not to. An insisted that the captors call him by his baptismal name, Thomas.\\nIn court, An claimed to be a lieutenant general of the Korean resistance army and demanded to be treated as a prisoner of war and not a suspected criminal. He insisted he did nothing wrong, reciting a list of 15 execution-worthy offenses he believed Itō had committed. An mista')]\n"
     ]
    }
   ],
   "source": [
    "# 모듈화한 함수 테스트\n",
    "query = \"안중근\"\n",
    "document_splits = load_docs(query)\n",
    "print(document_splits)"
   ]
  },
  {
   "cell_type": "code",
   "execution_count": 40,
   "id": "82f8fac9-8fab-41ea-97bc-8703600177c9",
   "metadata": {},
   "outputs": [
    {
     "name": "stdout",
     "output_type": "stream",
     "text": [
      "vectorstore 생성됨\n"
     ]
    }
   ],
   "source": [
    "vectorstore = create_vectorstore(document_splits)  # 함수명을 올바르게 수정\n",
    "print(\"vectorstore 생성됨\")"
   ]
  },
  {
   "cell_type": "code",
   "execution_count": 41,
   "id": "ce115c87-4805-4db5-95b4-8d8dd9154432",
   "metadata": {},
   "outputs": [
    {
     "name": "stdout",
     "output_type": "stream",
     "text": [
      "검색 기반의 QnA chain 생성됨\n"
     ]
    }
   ],
   "source": [
    "qna_chain = create_rag_chain(vectorstore)\n",
    "print(\"검색 기반의 QnA chain 생성됨\")"
   ]
  },
  {
   "cell_type": "code",
   "execution_count": 46,
   "id": "9fadff64-d60b-4b76-bf50-bf49034b804a",
   "metadata": {},
   "outputs": [
    {
     "name": "stdout",
     "output_type": "stream",
     "text": [
      "Question:  안중근 의사의 출생년도와 지역을 알려주세요.\n",
      "Answer:  {'query': '안중근 의사의 출생년도와 지역을 알려주세요.', 'result': '안중근 의사는 1879년 9월 2일에 태어났습니다. 출생지는 현재의 중국 하얼빈입니다. 그는 한국의 독립운동가로 잘 알려져 있습니다.', 'source_documents': [Document(metadata={'language': 'ko', 'source': 'https://ko.wikipedia.org/wiki/%EC%9C%84%ED%82%A4%EB%B0%B1%EA%B3%BC:%EC%A0%95%EC%B1%85%EA%B3%BC_%EC%A7%80%EC%B9%A8', 'title': '위키백과:정책과 지침 - 위키백과, 우리 모두의 백과사전'}, page_content='차후 공지가 불충분했다는 이의 제기를 피하려면, 위의 링크를 이용하여 공지하세요. 공지에 비중립적인 단어를 사용하는 등의 선전 행위는 피하세요.\\n토론이 끝났다면 선언과 함께 {{토론보존}} 틀을 이용하여 닫습니다. 총의 판단은 여타 토론과 마찬가지로  분쟁 해결 정책에서 갈음해 처리합니다. 토론을 통해 정책이나 지침 채택 여부를 논의하며, 이 과정에서 제안 문서가 크게 수정될 수도 있습니다. 토론 중 제안을 정식 정책/지침으로 채택하자는 합의로 모이고 나서 2주 (정확히 14일. 이후 내용은 모두 같습니다) 간 제안을 대폭 수정해야 하는 변경안 제시나 명확한 근거가 존재하는 반대가 나오지 않는다면 정책이나 지침으로 정식으로 채택됩니다. 반대로 토론자들 사이에서 채택을 거부한다는 합의가 모아져서 2주간 명확한 근거가 존재하는 반대 의견이 나오지 않는다면 채택안 거부 총의가 모아졌다고 보아 기각됩니다. 주요한 총의 판단 기준은 다음과 같습니다.'), Document(metadata={'language': 'ko', 'source': 'https://ko.wikipedia.org/wiki/%EC%9C%84%ED%82%A4%EB%B0%B1%EA%B3%BC:%EC%A0%95%EC%B1%85%EA%B3%BC_%EC%A7%80%EC%B9%A8', 'title': '위키백과:정책과 지침 - 위키백과, 우리 모두의 백과사전'}, page_content=\"위키백과:정책과 지침 - 위키백과, 우리 모두의 백과사전\\n\\n\\n\\n\\n\\n\\n\\n\\n\\n\\n\\n\\n\\n\\n\\n\\n\\n\\n\\n\\n\\n\\n\\n\\n\\n\\n\\n본문으로 이동\\n\\n\\n\\n\\n\\n\\n\\n주 메뉴\\n\\n\\n\\n\\n\\n주 메뉴\\n사이드바로 이동\\n숨기기\\n\\n\\n\\n\\t\\t둘러보기\\n\\t\\n\\n\\n대문최근 바뀜요즘 화제임의의 문서로\\n\\n\\n\\n\\n\\n\\t\\t사용자 모임\\n\\t\\n\\n\\n사랑방사용자 모임관리 요청\\n\\n\\n\\n\\n\\n\\t\\t편집 안내\\n\\t\\n\\n\\n소개도움말정책과 지침질문방\\n\\n\\n\\n\\n\\n\\n\\n\\n\\n\\n\\n\\n\\n\\n\\n\\n\\n\\n\\n검색\\n\\n\\n\\n\\n\\n\\n\\n\\n\\n\\n\\n검색\\n\\n\\n\\n\\n\\n\\n\\n\\n\\n\\n\\n\\n\\n\\n\\n\\n\\n\\n\\n\\n\\n\\n보이기\\n\\n\\n\\n\\n\\n\\n\\n\\n\\n\\n\\n\\n\\n\\n\\n\\n기부\\n\\n계정 만들기\\n\\n로그인\\n\\n\\n\\n\\n\\n\\n\\n\\n개인 도구\\n\\n\\n\\n\\n\\n기부 계정 만들기 로그인\\n\\n\\n\\n\\n\\n\\t\\t로그아웃한 편집자를 위한 문서 더 알아보기\\n\\n\\n\\n기여토론\\n\\n\\n\\n\\n\\n\\n\\n\\n\\n\\n\\n\\n\\n\\n\\n\\n\\n\\n\\n\\n\\n\\n\\n\\n\\n\\n\\n\\n목차\\n사이드바로 이동\\n숨기기\\n\\n\\n\\n\\n처음 위치\\n\\n\\n\\n\\n\\n1\\n최상위 정책\\n\\n\\n\\n\\n\\n\\n\\n\\n2\\n'정책과 지침'이란?\\n\\n\\n\\n\\n\\n\\n\\n\\n3\\n준수\\n\\n\\n\\n\\n\\n\\n\\n\\n4\\n집행\\n\\n\\n\\n\\n\\n\\n\\n\\n5\\n문서 내용\\n\\n\\n\\n\\n\\n\\n\\n\\n6\\n정책과 지침은 백과사전의 일부가 아닙니다\\n\\n\\n\\n\\n\\n\\n\\n\\n7\\n채택 과정\\n\\n\\n\\n\\n채택 과정 하위섹션 토글하기\\n\\n\\n\\n\\n\\n7.1\\n제안과 채택\\n\\n\\n\\n\\n\\n\\n\\n\\n7.2\\n내용 변경\\n\\n\\n\\n\\n\\n\\n7.2.1\\n실질적인 변경\\n\\n\\n\\n\\n\\n\\n\\n\\n\\n\\n7.3\\n격하\\n\\n\\n\\n\\n\\n\\n\\n\\n\\n\\n8\\n같이 보기\\n\\n\\n\\n\\n\\n\\n\\n\\n9\\n외부 링크\\n\\n\\n\\n\\n\\n\\n\\n\\n\\n\\n\\n\\n\\n\\n\\n\\n\\n\\n목차 토글\\n\\n\\n\\n\\n\\n\\n\\n위키백과:정책과 지침\\n\\n\\n\\n108개 언어\"), Document(metadata={'language': 'ko', 'source': 'https://ko.wikipedia.org/wiki/%EC%9C%84%ED%82%A4%EB%B0%B1%EA%B3%BC:%EC%A0%95%EC%B1%85%EA%B3%BC_%EC%A7%80%EC%B9%A8', 'title': '위키백과:정책과 지침 - 위키백과, 우리 모두의 백과사전'}, page_content=\"과도한 링크는 피하세요. 타 정책, 지침, 수필, 기타 문서는 설명 또는 문맥상 필요할 시에만 링크해야 합니다. 다른 도움말 문서로 링크하는 것은 의도였든 아니든 해당 문서에 지나친 권위를 부여할 수 있습니다. 링크해도 되는 것과 안 되는 것을 명확히 해 주세요.\\n서로 모순되어서는 안 됩니다. 공동체의 관점이 'A면서 A가 아니다'로 모일 수는 없습니다. 각 문서 간 명백한 모순이 발견된다면, 편집자들은 관련 문서들에 토론을 열어 공동체의 현재 입장을 확실히 정하고, 그에 맞게 모든 문서를 재정리해야 합니다. 그 논의는 하나의 토론 장소에서만 열어야 하며, 영향을 받는 모든 문서의 토론란에 토론 진행중임을 알려야 합니다.\\n정책과 지침은 백과사전의 일부가 아닙니다\\n위키백과는 백과사전식 내용 관련 정책과 지침이 많이 있습니다. 위키백과의 내용 관련 규범은 확인 가능성, 중립성, 생존 인물 관련 존중, 그 외 여러 가치를 요구합니다.\\n하지만 정책, 지침, 및 기타 운영에 관련된 문서들은 위키백과 백과사전의 일부가 아닙니다. 즉 일반적인 문서와 같은 내용 정책이나 지침을 적용할 필요가 없습니다. 위키백과의 관리 관련 문서에 확인 가능한 출처를 인용해야 한다거나, 정책과 지침을 전부 중립적 어조로 작성해야 한다거나, 편집 지침을 외부 출처로 인용해야만 하는 것은 아닙니다. 대신 정책 관련 문서의 내용은 공동체에 적용되는 총의에 따르고, 작성 방식은 다른 사용자를 위한 명확성, 단순 명쾌함, 유용성에 중점을 둡니다.\\n다만 정책과 지침 문서도, 내용 관련 정책이 아닌 다른 규정은 준수해야 합니다. 예를 들어, 위키백과 내의 어떤 문서에서든 저작권 침해는 용납되지 않습니다. 편집 분쟁 역시 일반 문서든 아니든 금지됩니다.\"), Document(metadata={'language': 'ko', 'source': 'https://ko.wikipedia.org/wiki/%EC%9C%84%ED%82%A4%EB%B0%B1%EA%B3%BC:%EC%A0%95%EC%B1%85%EA%B3%BC_%EC%A7%80%EC%B9%A8', 'title': '위키백과:정책과 지침 - 위키백과, 우리 모두의 백과사전'}, page_content='링크 편집\\n\\n\\n\\n\\n\\n\\n\\n\\n\\n\\n\\n프로젝트 문서토론\\n\\n\\n\\n\\n\\n한국어\\n\\n\\n\\n\\n\\n\\n\\n\\n\\n\\n\\n\\n\\n\\n\\n\\n\\n읽기원본 보기역사 보기\\n\\n\\n\\n\\n\\n\\n\\n도구\\n\\n\\n\\n\\n\\n도구\\n사이드바로 이동\\n숨기기\\n\\n\\n\\n\\t\\t동작\\n\\t\\n\\n\\n읽기원본 보기역사 보기\\n\\n\\n\\n\\n\\n\\t\\t일반\\n\\t\\n\\n\\n여기를 가리키는 문서가리키는 글의 최근 바뀜파일 올리기특수 문서 목록고유 링크문서 정보축약된 URL 얻기QR 코드 다운로드\\n\\n\\n\\n\\n\\n\\t\\t인쇄/내보내기\\n\\t\\n\\n\\n책 만들기PDF로 다운로드인쇄용 판\\n\\n\\n\\n\\n\\n\\t\\t다른 프로젝트\\n\\t\\n\\n\\n위키미디어 공용위키미디어 재단미디어위키메타위키위키미디어 아웃리치위키생물종위키책위키데이터위키인용집위키문헌위키배움터위키데이터 항목\\n\\n\\n\\n\\n\\n\\n\\n\\n\\n\\n\\n\\n\\n\\n\\n\\n\\n\\n\\n\\n\\n보이기\\n사이드바로 이동\\n숨기기\\n\\n\\n\\n\\n\\n\\n\\n\\n\\n\\n\\n위키백과, 우리 모두의 백과사전.\\n\\n\\n\\n\\n이 문서는 한국어 위키백과의 정책입니다.이것은 모든 사용자들이 일반적으로 따라야 하는 널리 인정된 기준입니다. 문서의 변경은 총의를 반영해야 합니다.단축백:정책백:지침백:규칙\\n요약: 위키백과의 정책과 지침은 위키백과 공동체가 지켜야 할 규범과 사례를 모아둔 것을 의미합니다. 본 정책은 정책과 지침이 어떻게 만들어지고 유지하며 지켜야 하는 지에 대해 설명합니다.\\n정책과 지침(목록)\\n원칙\\n다섯 원칙\\n규칙에 얽매이지 마세요\\n\\n콘텐츠 정책(핵심)\\n생존 인물의 전기\\n중립적 시각\\n독자 연구 금지\\n확인 가능\\n위키백과에 대한 오해\\n\\n행동 정책\\n총의\\n분쟁 해결\\n편집 분쟁\\n법적 위협 금지\\n인신 공격 금지\\n문서의 소유권\\n계정 이름\\n문서 훼손\\n\\n기타 정책 분류\\n삭제 정책\\n집행 정책\\n법적 정책\\n절차 정책')]}\n"
     ]
    }
   ],
   "source": [
    "question= \"안중근 의사의 출생년도와 지역을 알려주세요.\"\n",
    "result = qna_chain.invoke(question)\n",
    "print(\"Question: \", question)\n",
    "print(\"Answer: \", result)"
   ]
  },
  {
   "cell_type": "code",
   "execution_count": null,
   "id": "20297ae3-0adf-4c00-9123-b5d5267aad17",
   "metadata": {},
   "outputs": [],
   "source": []
  }
 ],
 "metadata": {
  "kernelspec": {
   "display_name": "Python 3 (ipykernel)",
   "language": "python",
   "name": "python3"
  },
  "language_info": {
   "codemirror_mode": {
    "name": "ipython",
    "version": 3
   },
   "file_extension": ".py",
   "mimetype": "text/x-python",
   "name": "python",
   "nbconvert_exporter": "python",
   "pygments_lexer": "ipython3",
   "version": "3.12.8"
  }
 },
 "nbformat": 4,
 "nbformat_minor": 5
}
