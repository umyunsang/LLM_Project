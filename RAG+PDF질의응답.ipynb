{
 "cells": [
  {
   "cell_type": "code",
   "execution_count": 31,
   "id": "0979c543-e6d9-4284-a3b7-378812b9f79e",
   "metadata": {},
   "outputs": [
    {
     "data": {
      "text/plain": [
       "True"
      ]
     },
     "execution_count": 31,
     "metadata": {},
     "output_type": "execute_result"
    }
   ],
   "source": [
    "# API KEY를 환경변수로 관리하기 위한 설정 파일\n",
    "# 설치: pip install python-dotenv\n",
    "from dotenv import load_dotenv\n",
    "\n",
    "# API KEY 정보로드\n",
    "load_dotenv()\n"
   ]
  },
  {
   "cell_type": "code",
   "execution_count": 2,
   "id": "155359a2-be1e-44eb-856b-c73ee2cefb41",
   "metadata": {},
   "outputs": [
    {
     "name": "stderr",
     "output_type": "stream",
     "text": [
      "C:\\Users\\엄윤상\\AppData\\Local\\Temp\\ipykernel_2288\\3734179046.py:4: LangChainDeprecationWarning: The class `Ollama` was deprecated in LangChain 0.3.1 and will be removed in 1.0.0. An updated version of the class exists in the :class:`~langchain-ollama package and should be used instead. To use it run `pip install -U :class:`~langchain-ollama` and import as `from :class:`~langchain_ollama import OllamaLLM``.\n",
      "  llm = Ollama(model=\"gemma2\")\n"
     ]
    }
   ],
   "source": [
    "#pip install langchain-ollama\n",
    "from langchain_community.llms import Ollama\n",
    "\n",
    "llm = Ollama(model=\"gemma2\")\n",
    "   \n",
    "response = llm.invoke(\"원주율의 값은?\")"
   ]
  },
  {
   "cell_type": "code",
   "execution_count": 21,
   "id": "1ef8ea11-e68d-4a8d-8ace-da6d61408756",
   "metadata": {},
   "outputs": [
    {
     "name": "stdout",
     "output_type": "stream",
     "text": [
      "원주율(π)의 값은 **3.141592653589793...** 입니다. \n",
      "\n",
      "하지만 이 값은 무한히 계속되는 소수입니다. 따라서 실제로 사용할 때는 일반적으로 소수점 이하를 잘라서 표시합니다. 몇 가지 흔하게 사용하는 원주율의 값은 다음과 같습니다:\n",
      "\n",
      "* **π = 3.14** (두 자릿소수)\n",
      "* **π ≈ 3.14159** (5 자릿 소수)\n",
      "\n",
      "\n",
      "\n"
     ]
    }
   ],
   "source": [
    "print(response)"
   ]
  },
  {
   "cell_type": "code",
   "execution_count": 22,
   "id": "41093456-a776-41b1-9a51-3d4d9e71c93b",
   "metadata": {},
   "outputs": [
    {
     "data": {
      "text/plain": [
       "9"
      ]
     },
     "execution_count": 22,
     "metadata": {},
     "output_type": "execute_result"
    }
   ],
   "source": [
    "#pip install pymupdf\n",
    "#pip install rapidocr-onnxruntime\n",
    "from langchain_community.document_loaders import PyMuPDFLoader\n",
    "\n",
    "\n",
    "pdf_filepath=\"./data/[24-13-포커스-1] 글로벌 EV 시장 동향 및 전망(IEA).pdf\"\n",
    "loader = PyMuPDFLoader(pdf_filepath, extract_images=True)\n",
    "docs = loader.load()\n",
    "len(docs)"
   ]
  },
  {
   "cell_type": "code",
   "execution_count": 5,
   "id": "e57fcc52-8e4b-4416-8098-078588def901",
   "metadata": {},
   "outputs": [
    {
     "data": {
      "text/plain": [
       "'세계 에너지시장 인사이트 제24-13호 2024.7.1.  1\\n글로벌 EV 시장 동향 및 전망(IEA)1)\\n재생에너지정책연구실 장연재 부연구위원(yjchang@keei.re.kr)\\n▶2023년 전기차 판매량은 전년 대비 35% 증가한 약 1,400만 대에 달해, 전 세계 전기차 보유량이 2018년 \\n대비 6배 이상 증가한 약 4,000만 대에 이름.\\n▶전기차 충전 인프라는 인구 밀집 지역을 제외하면 가정용 충전이 일반적이며, 공용 충전설비 설치가 40% \\n이상 증가하고 급속 충전시설은 55% 성장한 것으로 나타남.\\n▶2023년 약 4,500만 대였던 전기차 보유량은 2035년 5억 대를 초과할 전망이며, 전 세계 주요 지역의 \\n전기차 판매 비중이 확대되어 2030년 40-60%, 2035년 50-90% 차지 예상\\n▶2030년까지 전 세계 공용 충전기 숫자는 약 1,500만 개로 증가할 것으로 예상되며, 가정용 충전기는 \\n2023년 2,700만 기에서 2035년에 2억 7천만 기를 넘어설 것으로 전망됨.\\n1. 세계 전기차 시장 현황\\n▣전기차 판매 비중 증가\\n¡ 2023년 세계 전기차 판매량은 약 1,400만 대로서 전년 대비 35% 증가하였으며, \\n운행 중인 전기차는 2018년 대비 6배 이상 늘어난 4,000만 대에 이름.\\n‒ 전기차는 2023년에 전 세계 자동차 판매의 약 18%를 차지했으며, 이는 2022년의 \\n14%와 2018년의 2%에 비해 크게 증가한 수치임.\\n¡ 2023년 전기차의 자동차 판매 점유율을 지역별로 보면 중국 60%, 유럽 25%, \\n미국 10% 순으로 나타남. \\n‒ 중국은 810만 대의 신규 전기차가 등록되었고, 이는 전년 대비 35% 증가한 \\n수치임.\\n･\\n중국의 내연기관차 시장은 8% 축소되었으나, 전기차 판매 증가로 전체 자동차 \\n시장은 5% 성장함. \\n･\\n2023년에 세계 자동차 수출국 중 중국이 1위를 차지했으며, 400만 대 이상의 \\n자동차 수출 중에서 120만 대가 전기차로, 전기차 수출량이 80% 증가\\n‒ 유럽은 독일, 프랑스, 영국이 전기차 시장의 성장을 주도했으며, 2023년 기준 \\n320만 대의 신규 전기차 등록으로 2022년 대비 20% 증가\\n‒ 미국은 140만 대의 전기차가 신규 등록되어 전년 대비 40% 증가하였으며, 인플\\n레이션 감축법(IRA)에 따른 세액 공제 제도와 주요 모델의 가격 인하가 성장세를 \\n촉진한 것으로 파악됨.\\n1) 본고는 IEA의 “Global EV Outlook 2024” 보고서를 요약 정리한 것임. \\n“2023년 글로벌 \\n전기차 판매량은 \\n35% 급증한 \\n1,400만 대를 \\n기록했으며, 중국, \\n유럽, 미국이 \\n성장을 주도”\\n\\n\\n\\n\\nWORLD ENERGYMARKETINSIGHT'"
      ]
     },
     "execution_count": 5,
     "metadata": {},
     "output_type": "execute_result"
    }
   ],
   "source": [
    "docs[0].page_content\n"
   ]
  },
  {
   "cell_type": "code",
   "execution_count": 6,
   "id": "d871fc08-3997-493c-9c52-aa61217fdeac",
   "metadata": {},
   "outputs": [
    {
     "data": {
      "text/plain": [
       "{'producer': 'Hancom PDF 1.3.0.545',\n",
       " 'creator': 'Hancom PDF 1.3.0.545',\n",
       " 'creationdate': '2024-07-01T13:44:18+09:00',\n",
       " 'source': './data/[24-13-포커스-1] 글로벌 EV 시장 동향 및 전망(IEA).pdf',\n",
       " 'file_path': './data/[24-13-포커스-1] 글로벌 EV 시장 동향 및 전망(IEA).pdf',\n",
       " 'total_pages': 9,\n",
       " 'format': 'PDF 1.4',\n",
       " 'title': '',\n",
       " 'author': 'comdr',\n",
       " 'subject': '',\n",
       " 'keywords': '',\n",
       " 'moddate': '2024-07-01T13:44:18+09:00',\n",
       " 'trapped': '',\n",
       " 'page': 0}"
      ]
     },
     "execution_count": 6,
     "metadata": {},
     "output_type": "execute_result"
    }
   ],
   "source": [
    "docs[0].metadata"
   ]
  },
  {
   "cell_type": "code",
   "execution_count": 7,
   "id": "fd1bf2d1-7231-435a-b8fa-5ab50be8c045",
   "metadata": {},
   "outputs": [],
   "source": [
    "#Embedding\n",
    "# pip install langchain_ollama\n",
    "from langchain_ollama import OllamaEmbeddings\n",
    "nomic_embedding = OllamaEmbeddings(model=\"nomic-embed-text\")\n",
    "bge_embedding=OllamaEmbeddings(model=\"bge-m3\")"
   ]
  },
  {
   "cell_type": "code",
   "execution_count": 8,
   "id": "d441ef40-f13c-420b-84d9-cda0f6f52d3d",
   "metadata": {},
   "outputs": [
    {
     "name": "stdout",
     "output_type": "stream",
     "text": [
      "\n",
      "문장 1과 문장 2의 유사도 비교:\n",
      "Nomic-embed-text : 0.8589\n",
      "BGE-M3 : 0.8444\n",
      "\n",
      "문장 1과 문장 3의 유사도 비교:\n",
      "Nomic-embed-text : 0.8403\n",
      "BGE-M3 : 0.5838\n",
      "\n",
      "문장 1과 문장 4의 유사도 비교:\n",
      "Nomic-embed-text : 0.7810\n",
      "BGE-M3 : 0.4436\n",
      "\n",
      "문장 2과 문장 3의 유사도 비교:\n",
      "Nomic-embed-text : 0.8193\n",
      "BGE-M3 : 0.5336\n",
      "\n",
      "문장 2과 문장 4의 유사도 비교:\n",
      "Nomic-embed-text : 0.7935\n",
      "BGE-M3 : 0.4132\n",
      "\n",
      "문장 3과 문장 4의 유사도 비교:\n",
      "Nomic-embed-text : 0.8093\n",
      "BGE-M3 : 0.6649\n"
     ]
    }
   ],
   "source": [
    "#pip install scikit-learn\n",
    "import numpy as np\n",
    "from sklearn.metrics.pairwise import cosine_similarity\n",
    "\n",
    "sentences = [\n",
    "    \"안녕하세요? 오늘은 날씨가 좋습니다\",\n",
    "    \"날씨가 맑아서 기분이 좋아요\",\n",
    "    \"오늘 점심은 김치찌개을 먹었습니다.\",\n",
    "    \"한국의 전통 음식 중 하나는 김치입니다\"\n",
    "]\n",
    "#임베딩\n",
    "nomic_embeds  = [nomic_embedding.embed_query(sent) for sent in sentences]\n",
    "bge_embeds  = [bge_embedding.embed_query(sent) for sent in sentences]\n",
    "\n",
    "#유사도 계산\n",
    "def calculate_similarities(embeds) :\n",
    "    return cosine_similarity(embeds)\n",
    "    \n",
    "nomic_similarities = calculate_similarities(nomic_embeds )\n",
    "bge_similarities = calculate_similarities(bge_embeds )\n",
    "\n",
    "#임베딩 유사도 비교\n",
    "for i in range(len(sentences)):\n",
    "    for j in range(i+1, len(sentences)):\n",
    "        print(f\"\\n문장 {i+1}과 문장 {j+1}의 유사도 비교:\")\n",
    "        print(f\"Nomic-embed-text : {nomic_similarities[i][j]:.4f}\")\n",
    "        print(f\"BGE-M3 : {bge_similarities[i][j]:.4f}\")\n",
    "    "
   ]
  },
  {
   "cell_type": "code",
   "execution_count": 9,
   "id": "b537acc7-fd4e-44f6-b39a-e5f4f44e93cd",
   "metadata": {},
   "outputs": [
    {
     "data": {
      "text/plain": [
       "32"
      ]
     },
     "execution_count": 9,
     "metadata": {},
     "output_type": "execute_result"
    }
   ],
   "source": [
    "#텍스트를 모델 입력 길이 제한에 맞추기 위해 Spliter\n",
    "from langchain.text_splitter import RecursiveCharacterTextSplitter\n",
    "\n",
    "text_splitter = RecursiveCharacterTextSplitter (\n",
    "    separators =[\"\\n\\n\", \"\\n\"],\n",
    "    chunk_size=500,\n",
    "    chunk_overlap= 100,\n",
    ")\n",
    "text_chunks=text_splitter.split_documents(docs)\n",
    "len(text_chunks)"
   ]
  },
  {
   "cell_type": "code",
   "execution_count": 10,
   "id": "c969e3c3-8da6-4c53-97ce-3fa2add51192",
   "metadata": {},
   "outputs": [
    {
     "name": "stdout",
     "output_type": "stream",
     "text": [
      "세계 에너지시장 인사이트 제24-13호 2024.7.1.  1\n",
      "글로벌 EV 시장 동향 및 전망(IEA)1)\n",
      "재생에너지정책연구실 장연재 부연구위원(yjchang@keei.re.kr)\n",
      "▶2023년 전기차 판매량은 전년 대비 35% 증가한 약 1,400만 대에 달해, 전 세계 전기차 보유량이 2018년 \n",
      "대비 6배 이상 증가한 약 4,000만 대에 이름.\n",
      "▶전기차 충전 인프라는 인구 밀집 지역을 제외하면 가정용 충전이 일반적이며, 공용 충전설비 설치가 40% \n",
      "이상 증가하고 급속 충전시설은 55% 성장한 것으로 나타남.\n",
      "▶2023년 약 4,500만 대였던 전기차 보유량은 2035년 5억 대를 초과할 전망이며, 전 세계 주요 지역의 \n",
      "전기차 판매 비중이 확대되어 2030년 40-60%, 2035년 50-90% 차지 예상\n",
      "▶2030년까지 전 세계 공용 충전기 숫자는 약 1,500만 개로 증가할 것으로 예상되며, 가정용 충전기는\n"
     ]
    }
   ],
   "source": [
    "print(text_chunks[0].page_content)"
   ]
  },
  {
   "cell_type": "code",
   "execution_count": 11,
   "id": "9f85a6e5-ba45-4a93-844e-bd7359674823",
   "metadata": {},
   "outputs": [
    {
     "name": "stdout",
     "output_type": "stream",
     "text": [
      "▶2030년까지 전 세계 공용 충전기 숫자는 약 1,500만 개로 증가할 것으로 예상되며, 가정용 충전기는 \n",
      "2023년 2,700만 기에서 2035년에 2억 7천만 기를 넘어설 것으로 전망됨.\n",
      "1. 세계 전기차 시장 현황\n",
      "▣전기차 판매 비중 증가\n",
      "¡ 2023년 세계 전기차 판매량은 약 1,400만 대로서 전년 대비 35% 증가하였으며, \n",
      "운행 중인 전기차는 2018년 대비 6배 이상 늘어난 4,000만 대에 이름.\n",
      "‒ 전기차는 2023년에 전 세계 자동차 판매의 약 18%를 차지했으며, 이는 2022년의 \n",
      "14%와 2018년의 2%에 비해 크게 증가한 수치임.\n",
      "¡ 2023년 전기차의 자동차 판매 점유율을 지역별로 보면 중국 60%, 유럽 25%, \n",
      "미국 10% 순으로 나타남. \n",
      "‒ 중국은 810만 대의 신규 전기차가 등록되었고, 이는 전년 대비 35% 증가한 \n",
      "수치임.\n",
      "･\n",
      "중국의 내연기관차 시장은 8% 축소되었으나, 전기차 판매 증가로 전체 자동차 \n",
      "시장은 5% 성장함. \n",
      "･\n"
     ]
    }
   ],
   "source": [
    "print(text_chunks[1].page_content)"
   ]
  },
  {
   "cell_type": "code",
   "execution_count": 12,
   "id": "1ee5ad92-14f3-4351-85a3-f95ecfabb445",
   "metadata": {},
   "outputs": [
    {
     "name": "stdout",
     "output_type": "stream",
     "text": [
      "생성된 청크 수 : 46\n"
     ]
    }
   ],
   "source": [
    "#의미적 문서 분할\n",
    "#pip install langchain_experimental\n",
    "from langchain_experimental.text_splitter import SemanticChunker\n",
    "\n",
    "semantic_splitter = SemanticChunker(embeddings =bge_embedding)\n",
    "semantic_chunks = semantic_splitter.split_documents(text_chunks)\n",
    "print(f\"생성된 청크 수 : {len(semantic_chunks )}\")"
   ]
  },
  {
   "cell_type": "code",
   "execution_count": 13,
   "id": "60114c0d-5308-465d-98a9-dc4cc9afb16f",
   "metadata": {},
   "outputs": [
    {
     "name": "stdout",
     "output_type": "stream",
     "text": [
      "세계 에너지시장 인사이트 제24-13호 2024.7.1. 1\n",
      "글로벌 EV 시장 동향 및 전망(IEA)1)\n",
      "재생에너지정책연구실 장연재 부연구위원(yjchang@keei.re.kr)\n",
      "▶2023년 전기차 판매량은 전년 대비 35% 증가한 약 1,400만 대에 달해, 전 세계 전기차 보유량이 2018년 \n",
      "대비 6배 이상 증가한 약 4,000만 대에 이름. ▶전기차 충전 인프라는 인구 밀집 지역을 제외하면 가정용 충전이 일반적이며, 공용 충전설비 설치가 40% \n",
      "이상 증가하고 급속 충전시설은 55% 성장한 것으로 나타남.\n"
     ]
    }
   ],
   "source": [
    "print(semantic_chunks[0].page_content)"
   ]
  },
  {
   "cell_type": "code",
   "execution_count": 14,
   "id": "da2fcbf1-b1e6-438b-a2e7-463d5ee154f6",
   "metadata": {},
   "outputs": [
    {
     "name": "stdout",
     "output_type": "stream",
     "text": [
      "▶2023년 약 4,500만 대였던 전기차 보유량은 2035년 5억 대를 초과할 전망이며, 전 세계 주요 지역의 \n",
      "전기차 판매 비중이 확대되어 2030년 40-60%, 2035년 50-90% 차지 예상\n",
      "▶2030년까지 전 세계 공용 충전기 숫자는 약 1,500만 개로 증가할 것으로 예상되며, 가정용 충전기는\n"
     ]
    }
   ],
   "source": [
    "print(semantic_chunks[1].page_content)"
   ]
  },
  {
   "cell_type": "code",
   "execution_count": 15,
   "id": "8674f3c2-c521-4904-85c8-f4b2c155c6a2",
   "metadata": {},
   "outputs": [
    {
     "name": "stdout",
     "output_type": "stream",
     "text": [
      "▶2030년까지 전 세계 공용 충전기 숫자는 약 1,500만 개로 증가할 것으로 예상되며, 가정용 충전기는 \n",
      "2023년 2,700만 기에서 2035년에 2억 7천만 기를 넘어설 것으로 전망됨. 1. 세계 전기차 시장 현황\n",
      "▣전기차 판매 비중 증가\n",
      "¡ 2023년 세계 전기차 판매량은 약 1,400만 대로서 전년 대비 35% 증가하였으며, \n",
      "운행 중인 전기차는 2018년 대비 6배 이상 늘어난 4,000만 대에 이름. ‒ 전기차는 2023년에 전 세계 자동차 판매의 약 18%를 차지했으며, 이는 2022년의 \n",
      "14%와 2018년의 2%에 비해 크게 증가한 수치임. ¡ 2023년 전기차의 자동차 판매 점유율을 지역별로 보면 중국 60%, 유럽 25%, \n",
      "미국 10% 순으로 나타남. ‒ 중국은 810만 대의 신규 전기차가 등록되었고, 이는 전년 대비 35% 증가한 \n",
      "수치임. ･\n",
      "중국의 내연기관차 시장은 8% 축소되었으나, 전기차 판매 증가로 전체 자동차 \n",
      "시장은 5% 성장함.\n"
     ]
    }
   ],
   "source": [
    "print(semantic_chunks[2].page_content)"
   ]
  },
  {
   "cell_type": "code",
   "execution_count": 16,
   "id": "22ec36d2-c222-4fc3-a015-221f1563313d",
   "metadata": {},
   "outputs": [],
   "source": [
    "# Vector Store에 저장 > Indexing\n",
    "# pip install langchain_chroma\n",
    "from langchain_chroma import Chroma\n",
    "\n",
    "vectorstore = Chroma.from_documents(semantic_chunks, bge_embedding)\n"
   ]
  },
  {
   "cell_type": "code",
   "execution_count": 17,
   "id": "7bc597d2-d9bc-46c1-8f51-48d67f2b9a92",
   "metadata": {},
   "outputs": [
    {
     "name": "stdout",
     "output_type": "stream",
     "text": [
      "2\n",
      "\n",
      "2  세계 에너지시장 인사이트 제24-13호 2024.7.1. 자료 : IEA(2024), Global EV Outlook 2024\n",
      "< 세계 전기자동차 누적 판매 추이(2010~2023년) >\n",
      "¡ 2023년 시판 중인 자동차 모델 종류는 전년 대비 15% 증가한 590종에 달했으며, \n",
      "그 중 60% 이상이 SUV 또는 대형 차량으로 나타남. ‒ 전기차 시장에서 소형 및 중형 모델의 비중이 감소하는 추세이며 미국에서는 \n",
      "소형 및 중형 전기차 모델이 전기차 판매의 25%를, 유럽에서는 40%, 중국에서는 \n",
      "50%를 차지한 것으로 나타남. ‒ 이와 같은 대형 EV 모델의 종류 및 구매 증가 추세는 자동차 제조업체의 \n",
      "수익성과 소비자의 선호 및 배출 규제 등이 반영된 것으로 분석되고 있음.\n",
      "----------------------------------------------------------------------------------------------------\n",
      "･\n",
      "중국의 내연기관차 시장은 8% 축소되었으나, 전기차 판매 증가로 전체 자동차 \n",
      "시장은 5% 성장함. ･\n",
      "2023년에 세계 자동차 수출국 중 중국이 1위를 차지했으며, 400만 대 이상의 \n",
      "자동차 수출 중에서 120만 대가 전기차로, 전기차 수출량이 80% 증가\n",
      "‒ 유럽은 독일, 프랑스, 영국이 전기차 시장의 성장을 주도했으며, 2023년 기준 \n",
      "320만 대의 신규 전기차 등록으로 2022년 대비 20% 증가\n",
      "‒ 미국은 140만 대의 전기차가 신규 등록되어 전년 대비 40% 증가하였으며, 인플\n",
      "레이션 감축법(IRA)에 따른 세액 공제 제도와 주요 모델의 가격 인하가 성장세를 \n",
      "촉진한 것으로 파악됨. 1) 본고는 IEA의 “Global EV Outlook 2024” 보고서를 요약 정리한 것임. “2023년 글로벌 \n",
      "전기차 판매량은 \n",
      "35% 급증한 \n",
      "1,400만 대를 \n",
      "기록했으며, 중국, \n",
      "유럽, 미국이 \n",
      "성장을 주도”\n",
      "----------------------------------------------------------------------------------------------------\n"
     ]
    }
   ],
   "source": [
    "# Vector Store에 query엔진 생성하고 질의 테스트\n",
    "query=\"중국 전기차 시장에서 중소형 모델의 판매 비중은 얼마인가요?\"\n",
    "retriever = vectorstore.as_retriever(search_kwargs={'k':2})\n",
    "results = retriever.invoke(query)\n",
    "print(len(results))\n",
    "print()\n",
    "for doc in results:\n",
    "    print(doc.page_content)\n",
    "    print(\"-\"*100)\n"
   ]
  },
  {
   "cell_type": "code",
   "execution_count": 18,
   "id": "689fced1-1df2-4304-b6b2-98df13deb747",
   "metadata": {},
   "outputs": [
    {
     "data": {
      "text/plain": [
       "'중국 전기차 시장에서 소형 및 중형 모델이 50%를 차지합니다.  \\n\\n\\n'"
      ]
     },
     "execution_count": 18,
     "metadata": {},
     "output_type": "execute_result"
    }
   ],
   "source": [
    "# LLM으로 동일한 query에 대해서 응답 텍스트 생성\n",
    "from langchain_core.output_parsers import StrOutputParser\n",
    "from langchain_core.runnables import RunnablePassthrough\n",
    "from langchain_ollama import ChatOllama\n",
    "from langchain_core.prompts import  ChatPromptTemplate\n",
    "\n",
    "llm = ChatOllama(model=\"gemma2\", temperature=0.2, num_predict=250, )\n",
    "\n",
    "template =''' Answer the question based only on the following context.\n",
    "\n",
    "[Context]\n",
    "{context}\n",
    "\n",
    "[Question]\n",
    "{question}\n",
    "\n",
    "[Answer (in Korea)]\n",
    "'''\n",
    "\n",
    "prompt = ChatPromptTemplate.from_template(template)\n",
    "\n",
    "def format_docs(docs):\n",
    "    return '\\n\\n'.join([d.page_content for d in docs])\n",
    "\n",
    "rag_chain= ( {'context' : retriever | format_docs , 'question' : RunnablePassthrough()}\n",
    "            | prompt \n",
    "             | llm \n",
    "            | StrOutputParser ()\n",
    "           )\n",
    "#Chain 실행\n",
    "query=\"중국 전기차 시장에서 중소형 모델의 판매 비중은 얼마인가요?\"\n",
    "rag_chain.invoke(query)"
   ]
  },
  {
   "cell_type": "code",
   "execution_count": 19,
   "id": "b4cb74d0-c57a-4ba8-8b72-edcb525721aa",
   "metadata": {},
   "outputs": [
    {
     "name": "stdout",
     "output_type": "stream",
     "text": [
      "2\n",
      "\n",
      "2  세계 에너지시장 인사이트 제24-13호 2024.7.1. 자료 : IEA(2024), Global EV Outlook 2024\n",
      "< 세계 전기자동차 누적 판매 추이(2010~2023년) >\n",
      "¡ 2023년 시판 중인 자동차 모델 종류는 전년 대비 15% 증가한 590종에 달했으며, \n",
      "그 중 60% 이상이 SUV 또는 대형 차량으로 나타남. ‒ 전기차 시장에서 소형 및 중형 모델의 비중이 감소하는 추세이며 미국에서는 \n",
      "소형 및 중형 전기차 모델이 전기차 판매의 25%를, 유럽에서는 40%, 중국에서는 \n",
      "50%를 차지한 것으로 나타남. ‒ 이와 같은 대형 EV 모델의 종류 및 구매 증가 추세는 자동차 제조업체의 \n",
      "수익성과 소비자의 선호 및 배출 규제 등이 반영된 것으로 분석되고 있음.\n",
      "----------------------------------------------------------------------------------------------------\n",
      "8  세계 에너지시장 인사이트 제24-13호 2024.7.1. ¡ 유럽의 STEPS 시나리오는 중소형 전기차(LDV)의 판매 비율이 2030년에 60%, \n",
      "2035년에 85%에 도달할 것으로 예상하며 APS 시나리오는 2030년에 60%, \n",
      "2035년에 90%를 초과할 것으로 전망\n",
      "‒ 영국은 2023년 차량 배출 거래 제도 명령을 통과시키면서 2024년 22%에서 \n",
      "2030년 80%로 제로 배출 차량(ZEV) 판매 목표를 설정\n",
      "‒ EU는 2035년까지 경차 및 밴의 무탄소배출 차량의 판매 비율을 100%로 설정\n",
      "¡ 미국의 중소형 전기차의 판매 비율은 STEPS와 APS 시나리오 하에서 모두 2030년에 \n",
      "55%, 2035년에 70%에 도달할 것으로 예상됨.\n",
      "----------------------------------------------------------------------------------------------------\n"
     ]
    }
   ],
   "source": [
    "# Vector Store에 query엔진 생성하고 질의 테스트\n",
    "query=\"중소형 전기차 모델이 가장 많은 판매량을 차지하는 지역은 어디인가요?\"\n",
    "retriever = vectorstore.as_retriever(search_kwargs={'k':2})\n",
    "results = retriever.invoke(query)\n",
    "print(len(results))\n",
    "print()\n",
    "for doc in results:\n",
    "    print(doc.page_content)\n",
    "    print(\"-\"*100)"
   ]
  },
  {
   "cell_type": "code",
   "execution_count": 20,
   "id": "9b9ab54f-44c9-4f83-b7eb-d8aea20b7ba6",
   "metadata": {},
   "outputs": [
    {
     "data": {
      "text/plain": [
       "'본문에서는 중소형 전기차 모델의 판매 비율이 가장 높은 지역에 대한 정보는 제공하지 않습니다. \\n\\n\\n'"
      ]
     },
     "execution_count": 20,
     "metadata": {},
     "output_type": "execute_result"
    }
   ],
   "source": [
    "#Chain 실행\n",
    "query=\"중소형 전기차 모델이 가장 많은 판매량을 차지하는 지역은 어디인가요?\"\n",
    "rag_chain.invoke(query)"
   ]
  },
  {
   "cell_type": "code",
   "execution_count": 29,
   "id": "60567cc8-13da-44a9-af1e-518c2050a350",
   "metadata": {},
   "outputs": [
    {
     "name": "stdout",
     "output_type": "stream",
     "text": [
      "질문: langchain의 역할은 무엇인가요?\n",
      "답변: content='당연합니다! 저는 LLM에 대해 꽤 잘 알고 있죠.\\n\\nLangChain은 **LLM(Large Language Model)의 잠재력을 풀어내는 데 도움이 되는 프레임워크**입니다. \\n\\n마치 LLM이 훌륭한 능력을 가진 젊은 인재라면, LangChain은 그 능력을 효과적으로 활용하고 더 나은 결과를 내도록 돕는 **실무 멘토**라고 생각할 수 있습니다. \\n\\n좀 더 구체적으로 말하자면, LangChain은 다음과 같은 기능들을 제공하여 LLM을 더욱 유용하게 활용할 수 있도록 돕습니다.\\n\\n* **데이터를 처리하고 LLM에 제공하는 방법:** LLM은 텍스트 기반으로 학습했기 때문에, 다양한 데이터 형태를 LLM이 이해하고 활용할 수 있도록 변환하는 데 도움을 줍니다.\\n\\n* **사용자와의 상호 작용:** LLM을 이용한 챗봇이나 기타 인터페이스를 구축하는 데 유용한 기능들을 제공합니다.\\n\\n* **LLM의 결과를 효과적으로 활용:** LLM이 생성한 텍스트를 분석하고, 요약하거나, 다른 작업에 활용할 수 있도록 도와줍니다' additional_kwargs={} response_metadata={'token_usage': {'completion_tokens': 300, 'prompt_tokens': 41, 'total_tokens': 341, 'completion_time': 0.545454545, 'prompt_time': 0.000556949, 'queue_time': 0.021550731, 'total_time': 0.546011494}, 'model_name': 'gemma2-9b-it', 'system_fingerprint': 'fp_10c08bf97d', 'finish_reason': 'length', 'logprobs': None} id='run-6ef3df85-f4f0-4545-9fcc-f44bedf1eaea-0' usage_metadata={'input_tokens': 41, 'output_tokens': 300, 'total_tokens': 341}\n",
      "\n",
      "질문: llama index의 기능은 무엇인가요?\n",
      "답변: content='LlamaIndex는 **LLM(대규모 언어 모델)을 데이터베이스나 파일 시스템과 연결하여 효율적이고 강력한 챗봇, 검색 엔진, 질의응답 시스템 등을 구축하는 데 도움을 주는 오픈 소스 프레임워크**입니다. \\n\\nLlamaIndex의 핵심 기능은 다음과 같습니다:\\n\\n* **데이터베이스 및 파일 시스템 연동:** \\nLlamaIndex는 텍스트 데이터가 저장된 다양한 형태의 데이터원 (SQL 데이터베이스, NoSQL 데이터베이스, 파일 시스템, Google Drive, S3 등)을  LLM과 연결해줍니다. \\n* **데이터 전처리 및 인덱싱:** \\n데이터를 효율적으로 처리하고 검색하기 위해 LlamaIndex는 다양한 전처리 기술 (tokenization, vectorization, embedding)을 제공합니다. \\n* ** 질의응답 및 검색:** LlamaIndex는 사용자 입력을 이해하고 데이터베이스나 파일 시스템에서 관련 정보를 검색하여 명확하고 완전한 답변을 제공합니다. \\n* **자동화된 도구:** LlamaIndex는 챗봇, 검색 앱, 질의응답 시스템 등 다양한 솔루션을 구축하는 데 필요한 자원과 도구를 제공합니다. ' additional_kwargs={} response_metadata={'token_usage': {'completion_tokens': 300, 'prompt_tokens': 40, 'total_tokens': 340, 'completion_time': 0.545454545, 'prompt_time': 0.000325329, 'queue_time': 0.021999861000000002, 'total_time': 0.545779874}, 'model_name': 'gemma2-9b-it', 'system_fingerprint': 'fp_10c08bf97d', 'finish_reason': 'length', 'logprobs': None} id='run-6879a6a1-85f5-416a-b9ea-69473bc94646-0' usage_metadata={'input_tokens': 40, 'output_tokens': 300, 'total_tokens': 340}\n",
      "\n",
      "질문: RAG와 langchain은 무엇이 다른가요?\n",
      "답변: content='## RAG와 LangChain: 둘의 차이점\\n\\n저는 LLM에 대해 잘 알고 있어요! RAG와 LangChain은 모두 Large Language Model(LLM)을 활용하는 데 도움이 되는 도구이지만, 그 목적과 방식이 다릅니다.\\n\\n**RAG (Retrieval Augmented Generation)**\\n\\n* **목표**: LLM의 답변의 정확성과 관련성을 높이기 위해 **외부 데이터베이스에서 정보를 검색**합니다.\\n* **방식**:\\n    1. 사용자의 질문을 분석하여 관련 키워드를 추출합니다.\\n    2. 추출된 키워드를 이용하여 데이터베이스에서 가장 관련성 있는 문서를 검색합니다.\\n    3. 검색된 문서 내용을 LLM에 제공하여 질문에 대한 답변을 생성합니다.\\n* **장점**:\\n    * LLM의 지식을 확장시켜 더욱 정확하고 관련성 있는 답변을 제공합니다.\\n    * 실시간 정보를 반영하여 최신 정보를 제공할 수 있습니다.\\n* **단점**:\\n    * 데이터베이스 구축 및 관리가 필요합니다.\\n    * 검색 알고리즘의 성능이 답변의 질에 영향을 미칠 수 있습니다.\\n\\n**LangChain**\\n\\n* **목표**: LLM을 사용' additional_kwargs={} response_metadata={'token_usage': {'completion_tokens': 300, 'prompt_tokens': 41, 'total_tokens': 341, 'completion_time': 0.545454545, 'prompt_time': 0.002083883, 'queue_time': 0.057427784999999995, 'total_time': 0.547538428}, 'model_name': 'gemma2-9b-it', 'system_fingerprint': 'fp_10c08bf97d', 'finish_reason': 'length', 'logprobs': None} id='run-d885026c-95ba-42a3-90ff-a7e1b3e71ed5-0' usage_metadata={'input_tokens': 41, 'output_tokens': 300, 'total_tokens': 341}\n",
      "\n"
     ]
    }
   ],
   "source": [
    "# pip install langchain_groq\n",
    "from langchain_groq import ChatGroq\n",
    "from langchain_core.prompts import ChatPromptTemplate\n",
    "\n",
    "# LLM 설정\n",
    "llm = ChatGroq(model='gemma2-9b-it',\n",
    "               temperature=0.7, \n",
    "               max_tokens=300, \n",
    "               api_key=\"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\")\n",
    "\n",
    "# 프롬프트 템플릿 설정\n",
    "prompt = ChatPromptTemplate.from_messages([\n",
    "    (\"system\", \"당신은 유능한 AI 조수입니다. LLM에 대해 잘 알고 있습니다.\"),\n",
    "    (\"human\", \"{question}\")])\n",
    "\n",
    "# 체인 정의\n",
    "chain = prompt | llm\n",
    "\n",
    "# 질문 리스트\n",
    "question = [\n",
    "    \"langchain의 역할은 무엇인가요?\",\n",
    "    \"llama index의 기능은 무엇인가요?\",\n",
    "    \"RAG와 langchain은 무엇이 다른가요?\"]\n",
    "\n",
    "# 질문에 대한 응답 출력\n",
    "for q in question:\n",
    "    response = chain.invoke({\"question\": q})\n",
    "    print(f\"질문: {q}\")\n",
    "    print(f\"답변: {response}\\n\")\n"
   ]
  },
  {
   "cell_type": "code",
   "execution_count": 34,
   "id": "99c66c6e-bd56-42b5-adce-09ebc67a92b5",
   "metadata": {},
   "outputs": [
    {
     "data": {
      "text/plain": [
       "'중국 전기차 시장에서 소형 및 중형 모델의 비중은 50%입니다. \\n\\n\\n'"
      ]
     },
     "execution_count": 34,
     "metadata": {},
     "output_type": "execute_result"
    }
   ],
   "source": [
    "# LLM으로 동일한 query에 대해서 응답 텍스트 생성\n",
    "from langchain_core.output_parsers import StrOutputParser\n",
    "from langchain_core.runnables import RunnablePassthrough\n",
    "from langchain_core.prompts import  ChatPromptTemplate\n",
    "from langchain_groq import ChatGroq\n",
    "\n",
    "llm = ChatGroq(model=\"gemma2-9b-it\", temperature=0.2, max_tokens=300, )\n",
    "\n",
    "template =''' Answer the question based only on the following context.\n",
    "\n",
    "[Context]\n",
    "{context}\n",
    "\n",
    "[Question]\n",
    "{question}\n",
    "\n",
    "[Answer (in Korea)]\n",
    "'''\n",
    "\n",
    "prompt = ChatPromptTemplate.from_template(template)\n",
    "\n",
    "def format_docs(docs):\n",
    "    return '\\n\\n'.join([d.page_content for d in docs])\n",
    "\n",
    "rag_chain= ( {'context' : retriever | format_docs , 'question' : RunnablePassthrough()}\n",
    "            | prompt \n",
    "             | llm \n",
    "            | StrOutputParser ()\n",
    "           )\n",
    "#Chain 실행\n",
    "query=\"중국 전기차 시장에서 중소형 모델의 판매 비중은 얼마인가요?\"\n",
    "rag_chain.invoke(query)"
   ]
  },
  {
   "cell_type": "code",
   "execution_count": null,
   "id": "2144f075-7fa5-4b2e-bb75-1d671bd43a57",
   "metadata": {},
   "outputs": [],
   "source": []
  }
 ],
 "metadata": {
  "kernelspec": {
   "display_name": "Python 3 (ipykernel)",
   "language": "python",
   "name": "python3"
  },
  "language_info": {
   "codemirror_mode": {
    "name": "ipython",
    "version": 3
   },
   "file_extension": ".py",
   "mimetype": "text/x-python",
   "name": "python",
   "nbconvert_exporter": "python",
   "pygments_lexer": "ipython3",
   "version": "3.12.8"
  }
 },
 "nbformat": 4,
 "nbformat_minor": 5
}
