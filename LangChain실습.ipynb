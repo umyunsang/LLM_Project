{
 "cells": [
  {
   "cell_type": "code",
   "execution_count": 1,
   "id": "b2ea1e66-1313-4962-a278-6cff53534dd3",
   "metadata": {},
   "outputs": [
    {
     "data": {
      "text/plain": [
       "True"
      ]
     },
     "execution_count": 1,
     "metadata": {},
     "output_type": "execute_result"
    }
   ],
   "source": [
    "# API KEY를 환경변수로 관리하기 위한 설정 파일\n",
    "# 설치: pip install python-dotenv\n",
    "from dotenv import load_dotenv\n",
    "\n",
    "# API KEY 정보로드\n",
    "load_dotenv()"
   ]
  },
  {
   "cell_type": "code",
   "execution_count": 2,
   "id": "e204d324-7996-420f-899f-154f285f7018",
   "metadata": {},
   "outputs": [
    {
     "data": {
      "text/plain": [
       "AIMessage(content=\"사주, 즉 사주명리학은 사람의 생년, 생월, 생일, 생시에 따라 구성된 네 개의 기둥(사주팔자)을 바탕으로 개인의 운세나 성격, 적성을 분석하는 전통적인 방법입니다. 사주에 대한 신빙성은 개인의 믿음이나 문화적 배경에 따라 다르게 평가될 수 있습니다.\\n\\n1. **신념과 문화**: 많은 사람들은 사주를 통해 자신을 이해하고, 삶의 방향성을 찾는 데 도움을 받습니다. 특히 동아시아 문화권에서는 이러한 전통적인 신념이 깊이 뿌리내려 있어, 많은 사람들이 사주를 신뢰합니다.\\n\\n2. **과학적 근거**: 사주는 과학적으로 검증된 방법은 아닙니다. 통계적 데이터나 실험적 근거가 부족하기 때문에 객관적인 사실로 받아들여지기 어려운 측면이 있습니다.\\n\\n3. **심리적 효과**: 사주를 통해 긍정적인 메시지나 격려를 받는 경우, 이는 심리적으로 자신감을 높이는 데 도움이 될 수 있습니다. 이는 '플라시보 효과'와 유사하게 작용할 수 있습니다.\\n\\n결국 사주는 개인의 신념, 문화적 배경, 심리적 상태에 따라 신빙성이 다르게 평가될 수 있습니다. 어떤 사람들은 사주에 큰 의미를 두고 신뢰하는 반면, 다른 사람들은 이를 단순한 오락으로 여길 수도 있습니다.\", additional_kwargs={'refusal': None}, response_metadata={'token_usage': {'completion_tokens': 329, 'prompt_tokens': 15, 'total_tokens': 344, 'completion_tokens_details': {'accepted_prediction_tokens': 0, 'audio_tokens': 0, 'reasoning_tokens': 0, 'rejected_prediction_tokens': 0}, 'prompt_tokens_details': {'audio_tokens': 0, 'cached_tokens': 0}}, 'model_name': 'gpt-4o-mini-2024-07-18', 'system_fingerprint': 'fp_72ed7ab54c', 'finish_reason': 'stop', 'logprobs': None}, id='run-fdd60a14-24ad-42da-b620-0e0ae0f4ddc4-0', usage_metadata={'input_tokens': 15, 'output_tokens': 329, 'total_tokens': 344, 'input_token_details': {'audio': 0, 'cache_read': 0}, 'output_token_details': {'audio': 0, 'reasoning': 0}})"
      ]
     },
     "execution_count": 2,
     "metadata": {},
     "output_type": "execute_result"
    }
   ],
   "source": [
    "# LangChain으로 LLM 실행\n",
    "from langchain_openai import ChatOpenAI\n",
    "\n",
    "llm = ChatOpenAI(model=\"gpt-4o-mini\")\n",
    "llm.invoke(\"사주는 신빙성이 있는가?\")\n",
    "# 결과는 AIMessage 객체로 반환됨"
   ]
  },
  {
   "cell_type": "code",
   "execution_count": 6,
   "id": "48e47fa7-25e0-428e-9f99-9451148afa82",
   "metadata": {},
   "outputs": [
    {
     "data": {
      "text/plain": [
       "AIMessage(content='을축월 무오일주에 태어난 1998년 호랑이띠 남자의 사주 특징에 대해 설명드리겠습니다. \\n\\n1. **천간**: 을(乙) - 을은 나무의 기운을 상징하며, 부드럽고 온화한 성격을 나타냅니다. 인간관계에서 협력적이며, 배려가 깊고, 필요할 때는 강하게 나설 수 있는 능력이 있습니다.\\n\\n2. **지지**: 축(丑) - 축은 토의 기운을 가지고 있으며, 안정성과 근면함을 나타냅니다. 축은 이러한 성질로 인해 신뢰를 얻고, 조용하면서도 꾸준한 발전을 할 수 있는 성격입니다.\\n\\n3. **일주**: 무(戊) - 무는 넓은 발산과 강한 의지를 가지고 있으며, 주체적이고 자기주장이 뚜렷한 타입입니다. 무의 성향은 대체로 솔직하고 정직하여 타인에게 믿음을 주기도 합니다.\\n\\n4. **사주 종합**: 무오일주로서, 이 사람은 강한 리더십과 추진력을 지니고 있습니다. 사주 속의 무와 을은 비교적 상생 관계에 있어, 창의적인 아이디어와 실천력이 응집된 상태입니다. \\n\\n5. **호랑이띠**: 호랑이띠는 용감하고 자존심이 강하며, 도전적인 성향이 강합니다. 본인의 이상을 이루기 위해 끊임없이 노력하며, 타인에게도 영향을 미치는 카리스마적인 면모를 지니고 있습니다.\\n\\n6. **전반적인 성향**: 전체적으로 이 사주는 의지가 강하고, 주변과의 관계에서 협력을 중시합니다. 회복력이 뛰어나고 변화를 두려워하지 않으며, 자신의 목표를 향해 끊임없이 나아가는 존재입니다.\\n\\n이러한 요소들은 사주를 구성하는 기본적인 사항들이며, 개인의 삶의 경험이나 환경에 따라 다르게 나타날 수 있습니다. 각자의 특성을 이해하고 활용하는 것이 중요합니다.', additional_kwargs={'refusal': None}, response_metadata={'token_usage': {'completion_tokens': 465, 'prompt_tokens': 56, 'total_tokens': 521, 'completion_tokens_details': {'accepted_prediction_tokens': 0, 'audio_tokens': 0, 'reasoning_tokens': 0, 'rejected_prediction_tokens': 0}, 'prompt_tokens_details': {'audio_tokens': 0, 'cached_tokens': 0}}, 'model_name': 'gpt-4o-mini-2024-07-18', 'system_fingerprint': 'fp_72ed7ab54c', 'finish_reason': 'stop', 'logprobs': None}, id='run-ed99f575-3521-4baa-8eaa-4f5cbd566649-0', usage_metadata={'input_tokens': 56, 'output_tokens': 465, 'total_tokens': 521, 'input_token_details': {'audio': 0, 'cache_read': 0}, 'output_token_details': {'audio': 0, 'reasoning': 0}})"
      ]
     },
     "execution_count": 6,
     "metadata": {},
     "output_type": "execute_result"
    }
   ],
   "source": [
    "# ChatPromptTemplate + LLM 실행\n",
    "from langchain_core.prompts import ChatPromptTemplate\n",
    "prompt = ChatPromptTemplate.from_template(\"당신은 명리학에 지식이 뛰어납니다. 질문에 답변 해주세요. [Question]: {input}\")\n",
    "\n",
    "llm = ChatOpenAI(model=\"gpt-4o-mini\")\n",
    "chain = prompt | llm\n",
    "chain.invoke({\"input\" : \"을축월 무오일주 98년 호랑이띠 남자의 사주특징을 알려주세요\"})"
   ]
  },
  {
   "cell_type": "code",
   "execution_count": 7,
   "id": "921e74aa-4386-41ec-b11d-f7a23d256cef",
   "metadata": {},
   "outputs": [
    {
     "data": {
      "text/plain": [
       "'\"미래\"라는 한국어 단어는 영어로 \"future\"로 번역됩니다. 옥스포드 사전에서 \"future\"의 정의는 \"어떤 일이 발생할 가능성이 있는 시간의 범위; 다가오는 시간\"이라고 설명되어 있습니다. 이는 앞으로 일어날 사건이나 상황을 의미하며, 일반적으로 아직 일어나지 않은 시간이나 결과에 대한 개념을 포함합니다. \"미래\"는 우리가 기대하거나 계획하는 일들을 시사하며, 삶의 방향성을 결정짓는 중요한 요소입니다.'"
      ]
     },
     "execution_count": 7,
     "metadata": {},
     "output_type": "execute_result"
    }
   ],
   "source": [
    "from langchain_openai import ChatOpenAI\n",
    "from langchain_core.prompts import ChatPromptTemplate\n",
    "from langchain_core.output_parsers import StrOutputParser\n",
    "\n",
    "# 첫 번째 프롬프트: 한국어 단어를 영어로 번역\n",
    "prompt1 = ChatPromptTemplate.from_template(\"translates {korean_word} to English.\")\n",
    "\n",
    "# 두 번째 프롬프트: 영어 단어를 옥스포드 사전으로 한국어로 설명\n",
    "prompt2 = ChatPromptTemplate.from_template(\"explain {english_word} using oxford dictionary to me in Korean.\")\n",
    "\n",
    "# 언어 모델 정의\n",
    "llm = ChatOpenAI(model=\"gpt-4o-mini\")\n",
    "\n",
    "# 첫 번째 체인: 한국어 단어를 영어로 번역\n",
    "chain1 = prompt1 | llm | StrOutputParser()\n",
    "\n",
    "# 첫 번째 체인 실행\n",
    "chain1.invoke({\"korean_word\": \"미래\"})\n",
    "\n",
    "# 두 번째 체인: 첫 번째 체인의 결과를 사용하여 영어 단어를 옥스포드 사전으로 한국어로 설명\n",
    "chain2 = ({\"english_word\": chain1} | prompt2 | llm | StrOutputParser())\n",
    "\n",
    "# 두 번째 체인 실행\n",
    "chain2.invoke({\"korean_word\": \"미래\"})\n"
   ]
  },
  {
   "cell_type": "code",
   "execution_count": 8,
   "id": "06688c99-880d-48e0-89af-03c69ab80c25",
   "metadata": {},
   "outputs": [
    {
     "data": {
      "text/plain": [
       "[SystemMessage(content='당신은 한국사 전문가로서 질문에 답변하세요.', additional_kwargs={}, response_metadata={}),\n",
       " HumanMessage(content='이순신 장군이 전사한 전투이름은 ?', additional_kwargs={}, response_metadata={})]"
      ]
     },
     "execution_count": 8,
     "metadata": {},
     "output_type": "execute_result"
    }
   ],
   "source": [
    "chat_prompt = ChatPromptTemplate.from_messages([\n",
    "    (\"system\", \"당신은 한국사 전문가로서 질문에 답변하세요.\"),\n",
    "    (\"user\", \"{user_input}\")])\n",
    "\n",
    "messages = chat_prompt.format_messages(user_input=\"이순신 장군이 전사한 전투이름은 ?\")\n",
    "messages"
   ]
  },
  {
   "cell_type": "code",
   "execution_count": 9,
   "id": "54eee643-44b1-4214-a997-ac76bd060e08",
   "metadata": {},
   "outputs": [
    {
     "data": {
      "text/plain": [
       "'이순신 장군이 전사한 전투는 \"노량 해전\"입니다. 이 전투는 1598년 12월 16일에 벌어졌으며, 임진왜란 동안 일본과의 마지막 주요 해전이었습니다. 이순신 장군은 이 전투에서 전사하였고, 그의 죽음은 한국 역사에서 중요한 사건으로 남아 있습니다.'"
      ]
     },
     "execution_count": 9,
     "metadata": {},
     "output_type": "execute_result"
    }
   ],
   "source": [
    "chain = chat_prompt | llm | StrOutputParser()\n",
    "chain.invoke({\"user_input\": \"이순신 장군이 전사한 전투이름은 ?\"})"
   ]
  },
  {
   "cell_type": "code",
   "execution_count": 10,
   "id": "e16744dc-1f45-4602-9360-7f59e63555d6",
   "metadata": {},
   "outputs": [],
   "source": [
    "# Few Shot Prompt 에 사용될 몇가지 예시\n",
    "examples = [\n",
    "    {\n",
    "        \"question\": \"지구의 대기 중 가장 많은 비율을 차지하는 기체는 무엇인가요?\",\n",
    "        \"answer\": \"지구 대기의 약 78%를 차지하는 질소입니다.\"\n",
    "    },\n",
    "    {\n",
    "        \"question\": \"광합성에 필요한 주요 요소들은 무엇인가요?\",\n",
    "        \"answer\": \"광합성에 필요한 주요 요소는 빛, 이산화탄소, 물입니다.\"\n",
    "    },\n",
    "    {\n",
    "        \"question\": \"피타고라스 정리를 설명해주세요.\",\n",
    "        \"answer\": \"피타고라스 정리는 직각삼각형에서 빗변의 제곱이 다른 두 변의 제곱의 합과 같다는 것입니다.\"\n",
    "    },\n",
    "    {\n",
    "        \"question\": \"지구의 자전 주기는 얼마인가요?\",\n",
    "        \"answer\": \"지구의 자전 주기는 약 24시간(정확히는 23시간 56분 4초)입니다.\"\n",
    "    },\n",
    "    {\n",
    "        \"question\": \"DNA의 기본 구조를 간단히 설명해주세요.\",\n",
    "        \"answer\": \"DNA는 두 개의 폴리뉴클레오티드 사슬이 이중 나선 구조를 이루고 있습니다.\"\n",
    "    },\n",
    "    {\n",
    "        \"question\": \"원주율(π)의 정의는 무엇인가요?\",\n",
    "        \"answer\": \"원주율(π)은 원의 지름에 대한 원의 둘레의 비율입니다.\"\n",
    "    }\n",
    "]\n"
   ]
  },
  {
   "cell_type": "code",
   "execution_count": 19,
   "id": "4f5fe82a-2e69-4dd3-9eae-40b35e3117c0",
   "metadata": {},
   "outputs": [
    {
     "name": "stdout",
     "output_type": "stream",
     "text": [
      "화성의 표면이 붉은 이유는 주로 철 산화물, 즉 녹슨 철 때문입니다. 이 물질이 화성의 표면에서 우세하여 붉은 색을 띄게 됩니다.\n"
     ]
    }
   ],
   "source": [
    "# Few Shot Prompt : 언어 모델에 몇 가지 예시를 제공하고 특정 작업을 수행하도록 유도\n",
    "from langchain_core.prompts import FewShotChatMessagePromptTemplate\n",
    "\n",
    "example_prompt = ChatPromptTemplate.from_messages([\n",
    "    (\"human\", \"{question}\"),\n",
    "    (\"ai\", \"{answer}\")\n",
    "])\n",
    "\n",
    "fewshot_prompt = FewShotChatMessagePromptTemplate(examples=examples,    # 모델에 전달할 예시들\n",
    "                               example_prompt=example_prompt,    # 사용할 템플릿\n",
    "                               # suffix=\"질문: {input}\",\n",
    "                               # input_variables=[\"input\"]\n",
    "                              )\n",
    "\n",
    "final_prompt = ChatPromptTemplate.from_messages([\n",
    "    (\"system\", \"당신은 지구과학 전문가입니다.\"),\n",
    "    fewshot_prompt,\n",
    "    (\"human\", \"{question}\")\n",
    "])\n",
    "\n",
    "chain = final_prompt | llm\n",
    "result = chain.invoke({'question': '화성의 표면이 붉은 이유는 무엇인가요?'})\n",
    "print(result.content)"
   ]
  },
  {
   "cell_type": "code",
   "execution_count": 23,
   "id": "ef7b933e-d511-4dad-90cb-b1d939d8443e",
   "metadata": {},
   "outputs": [
    {
     "name": "stdout",
     "output_type": "stream",
     "text": [
      "겨울에 일어나는 대표적인 자연현상은 시베리아 한기류 남하 입니다.\n"
     ]
    }
   ],
   "source": [
    "# PartialPrompt\n",
    "from langchain_core.prompts import PromptTemplate\n",
    "from datetime import datetime\n",
    "\n",
    "def get_current_season():\n",
    "    month = datetime.now().month\n",
    "    if 3<= month >=5:\n",
    "        return '봄'\n",
    "    elif 6<= month >=8:\n",
    "        return '여름'\n",
    "    elif 9<= month >=11:\n",
    "        return '가을'\n",
    "    else:\n",
    "        return '겨울'\n",
    "\n",
    "prompt = PromptTemplate(template=\"{season}에 일어나는 대표적인 자연현상은 {phenomenon} 입니다.\",\n",
    "                        input_variables=[\"phenomenon\"],  # 사용자로부터 입력이 필요한 변수\n",
    "                        partial_variables={\"season\": get_current_season},    # 미리 지정될 프롬프트의 부분 변수\n",
    "                       )\n",
    "\n",
    "print(prompt.format(phenomenon=\"시베리아 한기류 남하\"))"
   ]
  },
  {
   "cell_type": "code",
   "execution_count": 26,
   "id": "0251a513-3f8c-42f7-a298-6f2d5f99f3a5",
   "metadata": {},
   "outputs": [
    {
     "name": "stdout",
     "output_type": "stream",
     "text": [
      "Your response should be a list of comma separated values, eg: `foo, bar, baz` or `foo,bar,baz`\n"
     ]
    }
   ],
   "source": [
    "# CSV 형식으로 출력하는 파서\n",
    "from langchain_core.output_parsers import CommaSeparatedListOutputParser\n",
    "\n",
    "output_parser = CommaSeparatedListOutputParser()\n",
    "format_instruction = output_parser.get_format_instructions()\n",
    "print(format_instruction)"
   ]
  },
  {
   "cell_type": "code",
   "execution_count": 27,
   "id": "94485eb6-a442-4cd6-a747-7c37d3e1676d",
   "metadata": {},
   "outputs": [
    {
     "data": {
      "text/plain": [
       "['김치', '불고기', '비빔밥', '떡볶이', '잡채']"
      ]
     },
     "execution_count": 27,
     "metadata": {},
     "output_type": "execute_result"
    }
   ],
   "source": [
    "prompt = PromptTemplate(\n",
    "    template=\"List five {subject} \\n {format_instructions}\",\n",
    "    input_variables=[\"subject\"],\n",
    "    partial_variables={\"format_instructions\": format_instruction},\n",
    ")\n",
    "chain = prompt | llm | output_parser\n",
    "chain.invoke({\"subject\":\"인기있는 한국 음식\"})"
   ]
  },
  {
   "cell_type": "code",
   "execution_count": null,
   "id": "c1277877-d66c-4f91-bc7d-0ef82e6cffc7",
   "metadata": {},
   "outputs": [],
   "source": []
  }
 ],
 "metadata": {
  "kernelspec": {
   "display_name": "Python 3 (ipykernel)",
   "language": "python",
   "name": "python3"
  },
  "language_info": {
   "codemirror_mode": {
    "name": "ipython",
    "version": 3
   },
   "file_extension": ".py",
   "mimetype": "text/x-python",
   "name": "python",
   "nbconvert_exporter": "python",
   "pygments_lexer": "ipython3",
   "version": "3.12.8"
  }
 },
 "nbformat": 4,
 "nbformat_minor": 5
}
